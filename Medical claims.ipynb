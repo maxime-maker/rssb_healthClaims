{
 "cells": [
  {
   "cell_type": "markdown",
   "id": "57db164d",
   "metadata": {},
   "source": [
    "# MEDICAL CLAIM DATA ANALYSIS"
   ]
  },
  {
   "cell_type": "markdown",
   "id": "5d8c1b55",
   "metadata": {},
   "source": [
    "## INTRODUCTION"
   ]
  },
  {
   "cell_type": "markdown",
   "id": "0fe263fe",
   "metadata": {},
   "source": [
    "\n",
    "\n",
    "In today's healthcare landscape, cost reduction is a critical objective for health insurance companies striving to provide affordable coverage while maintaining high-quality care. As the demand for healthcare services continues to rise, it becomes increasingly important to identify areas where costs can be minimized without compromising patient outcomes. To address this challenge, we embarked on an in-depth analysis of a historical medical claims dataset provided by a health insurance company. This dataset contains information on individual members, including their diagnoses, procedures performed, medications prescribed, and associated costs for each claim. By leveraging data analytics techniques, the aim is to uncover actionable insights that can help the health insurance company identify opportunities for cost reduction and optimize resource allocation effectively. In this report, I present findings and recommendations based on my analysis of the medical claims data, highlighting key areas where cost-saving measures can be implemented to drive greater efficiency and affordability in healthcare delivery."
   ]
  },
  {
   "cell_type": "markdown",
   "id": "b516e1a7",
   "metadata": {},
   "source": [
    "### Objectives"
   ]
  },
  {
   "cell_type": "markdown",
   "id": "cb5d776a",
   "metadata": {},
   "source": [
    "The primary objective of this analysis is to discern actionable insights from comprehensive health insurance data, thereby empowering institution to make informed decisions aimed at mitigating expenses without comprimising the quality of coverage.\n",
    "Specifically, the report seeks to achieve the following objectives:\n",
    "    \n",
    "   1. Analyze historical expenditure patterns to discern trends and anomalies.\n",
    "   2. Identify key drivers of healthcare costs and their respective impacts.\n",
    "   3. Expose potential areas for optimization and cost containment.\n",
    "   4. Provide actionable recommendations for expenses reduction based on data-driven insights."
   ]
  },
  {
   "cell_type": "markdown",
   "id": "44c9357d",
   "metadata": {},
   "source": [
    "### Scope"
   ]
  },
  {
   "cell_type": "markdown",
   "id": "e8677a2c",
   "metadata": {},
   "source": [
    " This analysis encompasses a broad spectrum of data sources, including but not limited to claims data, demographic information, provider networks, and medical utilization metrics. \n",
    "    By harnessing the power of analysis techniques, the scope of this study extends to the entire continuum of healthcare expenditure."
   ]
  },
  {
   "cell_type": "markdown",
   "id": "5395db8f",
   "metadata": {},
   "source": [
    "In summary, this report represents a pivotal step towards a more efficient, equitable, and sustainable healthcare ecosystem in which data-driven decision-making fosters optimal outcomes for both insurers and insured parties."
   ]
  },
  {
   "cell_type": "markdown",
   "id": "82e8171a",
   "metadata": {},
   "source": [
    "Most of the time, I used demography claim to give insights.\n",
    "\n",
    "df = demography claim dataframe\n",
    "df_1  = claim dataframe\n",
    "df_2 = demography dataframe"
   ]
  },
  {
   "cell_type": "code",
   "execution_count": 2,
   "id": "0e71ce3a",
   "metadata": {},
   "outputs": [],
   "source": [
    "import numpy as np\n",
    "import pandas as pd\n",
    "import matplotlib.pyplot as plt\n",
    "from matplotlib import rc\n",
    "import seaborn as sns\n",
    "from sklearn.linear_model import LinearRegression\n",
    "from sklearn.manifold import TSNE\n",
    "from sklearn.metrics import accuracy_score, classification_report # for froud\n",
    "from sklearn.model_selection import train_test_split"
   ]
  },
  {
   "cell_type": "code",
   "execution_count": 3,
   "id": "f159d8ce",
   "metadata": {},
   "outputs": [],
   "source": [
    "df = pd.read_csv(r'C:\\Users\\HP\\Documents\\GIS\\rssb_medical claims\\demography_claim.csv') # loading demography claim csv file in this python notebook"
   ]
  },
  {
   "cell_type": "code",
   "execution_count": 4,
   "id": "be4c21d7",
   "metadata": {
    "scrolled": true
   },
   "outputs": [
    {
     "data": {
      "text/html": [
       "<div>\n",
       "<style scoped>\n",
       "    .dataframe tbody tr th:only-of-type {\n",
       "        vertical-align: middle;\n",
       "    }\n",
       "\n",
       "    .dataframe tbody tr th {\n",
       "        vertical-align: top;\n",
       "    }\n",
       "\n",
       "    .dataframe thead th {\n",
       "        text-align: right;\n",
       "    }\n",
       "</style>\n",
       "<table border=\"1\" class=\"dataframe\">\n",
       "  <thead>\n",
       "    <tr style=\"text-align: right;\">\n",
       "      <th></th>\n",
       "      <th>id</th>\n",
       "      <th>firstName</th>\n",
       "      <th>lastName</th>\n",
       "      <th>gender</th>\n",
       "      <th>facilityName</th>\n",
       "      <th>scheme</th>\n",
       "      <th>medicationCode</th>\n",
       "      <th>medicationName</th>\n",
       "      <th>admissionDate</th>\n",
       "      <th>dischargeDate</th>\n",
       "      <th>diagnosisCode</th>\n",
       "      <th>procedureCode</th>\n",
       "      <th>quantity</th>\n",
       "      <th>billedAmount</th>\n",
       "      <th>verifiedAmount</th>\n",
       "      <th>paidAmount</th>\n",
       "    </tr>\n",
       "  </thead>\n",
       "  <tbody>\n",
       "    <tr>\n",
       "      <th>0</th>\n",
       "      <td>f70c7cea-d533-48ff-999e-d8ae2dfbdb7d</td>\n",
       "      <td>Alberta</td>\n",
       "      <td>Gerhold</td>\n",
       "      <td>FEMALE</td>\n",
       "      <td>Nkridgegridgewood</td>\n",
       "      <td>RAMA</td>\n",
       "      <td>35641</td>\n",
       "      <td>OVARIECTOMIE</td>\n",
       "      <td>2024-02-12 04:56:20.699</td>\n",
       "      <td>2024-03-23 09:19:21.894</td>\n",
       "      <td>ICD-J05AE10001</td>\n",
       "      <td>CPT-42242000FQZ425</td>\n",
       "      <td>82</td>\n",
       "      <td>632220</td>\n",
       "      <td>453929</td>\n",
       "      <td>178291</td>\n",
       "    </tr>\n",
       "    <tr>\n",
       "      <th>1</th>\n",
       "      <td>51b5e30c-cf7c-463b-874c-35b935257049</td>\n",
       "      <td>Dorothy</td>\n",
       "      <td>Rice</td>\n",
       "      <td>MALE</td>\n",
       "      <td>Forttown</td>\n",
       "      <td>MUTUELLE</td>\n",
       "      <td>30631</td>\n",
       "      <td>HYDROCELECTOMY</td>\n",
       "      <td>2023-11-10 07:00:17.013</td>\n",
       "      <td>2024-02-20 01:02:53.296</td>\n",
       "      <td>ICD-J04AB02002</td>\n",
       "      <td>CPT-42242000FQZ400</td>\n",
       "      <td>60</td>\n",
       "      <td>590700</td>\n",
       "      <td>528066</td>\n",
       "      <td>62634</td>\n",
       "    </tr>\n",
       "    <tr>\n",
       "      <th>2</th>\n",
       "      <td>5819dcde-d9a9-4bba-9ce5-6eb92c0b9194</td>\n",
       "      <td>Brandy</td>\n",
       "      <td>Pollich</td>\n",
       "      <td>FEMALE</td>\n",
       "      <td>Port Birmills</td>\n",
       "      <td>RAMA</td>\n",
       "      <td>35641</td>\n",
       "      <td>OVARIECTOMIE</td>\n",
       "      <td>2023-07-16 00:22:32.556</td>\n",
       "      <td>2024-03-30 05:26:46.263</td>\n",
       "      <td>ICD-J04AM02002</td>\n",
       "      <td>CPT-42242000FQZ351</td>\n",
       "      <td>34</td>\n",
       "      <td>100980</td>\n",
       "      <td>73711</td>\n",
       "      <td>27269</td>\n",
       "    </tr>\n",
       "    <tr>\n",
       "      <th>3</th>\n",
       "      <td>026ec986-620b-41e5-9fc2-f9dc4d2247d2</td>\n",
       "      <td>Phyllis</td>\n",
       "      <td>Monahan</td>\n",
       "      <td>FEMALE</td>\n",
       "      <td>North Lusland With Bathdsor</td>\n",
       "      <td>RAMA</td>\n",
       "      <td>35641</td>\n",
       "      <td>OVARIECTOMIE</td>\n",
       "      <td>2023-05-21 00:24:43.016</td>\n",
       "      <td>2023-05-27 06:00:36.737</td>\n",
       "      <td>ICD-J01XB02001</td>\n",
       "      <td>CPT-42242000FQZ410</td>\n",
       "      <td>31</td>\n",
       "      <td>199330</td>\n",
       "      <td>48398</td>\n",
       "      <td>150932</td>\n",
       "    </tr>\n",
       "  </tbody>\n",
       "</table>\n",
       "</div>"
      ],
      "text/plain": [
       "                                     id firstName lastName  gender  \\\n",
       "0  f70c7cea-d533-48ff-999e-d8ae2dfbdb7d   Alberta  Gerhold  FEMALE   \n",
       "1  51b5e30c-cf7c-463b-874c-35b935257049   Dorothy     Rice    MALE   \n",
       "2  5819dcde-d9a9-4bba-9ce5-6eb92c0b9194    Brandy  Pollich  FEMALE   \n",
       "3  026ec986-620b-41e5-9fc2-f9dc4d2247d2   Phyllis  Monahan  FEMALE   \n",
       "\n",
       "                  facilityName    scheme medicationCode   medicationName  \\\n",
       "0            Nkridgegridgewood      RAMA          35641     OVARIECTOMIE   \n",
       "1                     Forttown  MUTUELLE          30631   HYDROCELECTOMY   \n",
       "2                Port Birmills      RAMA          35641     OVARIECTOMIE   \n",
       "3  North Lusland With Bathdsor      RAMA          35641     OVARIECTOMIE   \n",
       "\n",
       "             admissionDate            dischargeDate   diagnosisCode  \\\n",
       "0  2024-02-12 04:56:20.699  2024-03-23 09:19:21.894  ICD-J05AE10001   \n",
       "1  2023-11-10 07:00:17.013  2024-02-20 01:02:53.296  ICD-J04AB02002   \n",
       "2  2023-07-16 00:22:32.556  2024-03-30 05:26:46.263  ICD-J04AM02002   \n",
       "3  2023-05-21 00:24:43.016  2023-05-27 06:00:36.737  ICD-J01XB02001   \n",
       "\n",
       "        procedureCode  quantity  billedAmount  verifiedAmount  paidAmount  \n",
       "0  CPT-42242000FQZ425        82        632220          453929      178291  \n",
       "1  CPT-42242000FQZ400        60        590700          528066       62634  \n",
       "2  CPT-42242000FQZ351        34        100980           73711       27269  \n",
       "3  CPT-42242000FQZ410        31        199330           48398      150932  "
      ]
     },
     "execution_count": 4,
     "metadata": {},
     "output_type": "execute_result"
    }
   ],
   "source": [
    "df.head(4) #first 4 rows of the demography claims file"
   ]
  },
  {
   "cell_type": "code",
   "execution_count": 5,
   "id": "f8d06d8e",
   "metadata": {},
   "outputs": [
    {
     "data": {
      "text/plain": [
       "(1937350, 16)"
      ]
     },
     "execution_count": 5,
     "metadata": {},
     "output_type": "execute_result"
    }
   ],
   "source": [
    "df.shape #dimensions of demography claim file (rows, columns)"
   ]
  },
  {
   "cell_type": "code",
   "execution_count": 6,
   "id": "57c4a203",
   "metadata": {},
   "outputs": [
    {
     "name": "stdout",
     "output_type": "stream",
     "text": [
      "The demography claim does not have empty data.\n"
     ]
    }
   ],
   "source": [
    "if df.isna().any().any():\n",
    "    print(\"The demography claim has empty data.\")\n",
    "else:\n",
    "    print(\"The demography claim does not have empty data.\")"
   ]
  },
  {
   "cell_type": "markdown",
   "id": "74f3b83a",
   "metadata": {},
   "source": [
    "Statitical summary of Demography Claim file"
   ]
  },
  {
   "cell_type": "code",
   "execution_count": 7,
   "id": "6785ac0e",
   "metadata": {
    "scrolled": true
   },
   "outputs": [
    {
     "data": {
      "text/html": [
       "<div>\n",
       "<style scoped>\n",
       "    .dataframe tbody tr th:only-of-type {\n",
       "        vertical-align: middle;\n",
       "    }\n",
       "\n",
       "    .dataframe tbody tr th {\n",
       "        vertical-align: top;\n",
       "    }\n",
       "\n",
       "    .dataframe thead th {\n",
       "        text-align: right;\n",
       "    }\n",
       "</style>\n",
       "<table border=\"1\" class=\"dataframe\">\n",
       "  <thead>\n",
       "    <tr style=\"text-align: right;\">\n",
       "      <th></th>\n",
       "      <th>count</th>\n",
       "      <th>mean</th>\n",
       "      <th>std</th>\n",
       "      <th>min</th>\n",
       "      <th>25%</th>\n",
       "      <th>50%</th>\n",
       "      <th>75%</th>\n",
       "      <th>max</th>\n",
       "    </tr>\n",
       "  </thead>\n",
       "  <tbody>\n",
       "    <tr>\n",
       "      <th>quantity</th>\n",
       "      <td>1937350.0</td>\n",
       "      <td>50.529090</td>\n",
       "      <td>28.862717</td>\n",
       "      <td>1.0</td>\n",
       "      <td>26.00</td>\n",
       "      <td>51.0</td>\n",
       "      <td>76.0</td>\n",
       "      <td>100.0</td>\n",
       "    </tr>\n",
       "    <tr>\n",
       "      <th>billedAmount</th>\n",
       "      <td>1937350.0</td>\n",
       "      <td>252618.540323</td>\n",
       "      <td>221338.377582</td>\n",
       "      <td>5.0</td>\n",
       "      <td>69620.00</td>\n",
       "      <td>189280.0</td>\n",
       "      <td>385875.0</td>\n",
       "      <td>1000000.0</td>\n",
       "    </tr>\n",
       "    <tr>\n",
       "      <th>verifiedAmount</th>\n",
       "      <td>1937350.0</td>\n",
       "      <td>126286.635662</td>\n",
       "      <td>147184.168518</td>\n",
       "      <td>0.0</td>\n",
       "      <td>20466.00</td>\n",
       "      <td>69984.0</td>\n",
       "      <td>179485.0</td>\n",
       "      <td>987357.0</td>\n",
       "    </tr>\n",
       "    <tr>\n",
       "      <th>paidAmount</th>\n",
       "      <td>1937350.0</td>\n",
       "      <td>126331.904661</td>\n",
       "      <td>147161.249009</td>\n",
       "      <td>1.0</td>\n",
       "      <td>20472.25</td>\n",
       "      <td>70021.0</td>\n",
       "      <td>179838.0</td>\n",
       "      <td>985496.0</td>\n",
       "    </tr>\n",
       "  </tbody>\n",
       "</table>\n",
       "</div>"
      ],
      "text/plain": [
       "                    count           mean            std  min       25%  \\\n",
       "quantity        1937350.0      50.529090      28.862717  1.0     26.00   \n",
       "billedAmount    1937350.0  252618.540323  221338.377582  5.0  69620.00   \n",
       "verifiedAmount  1937350.0  126286.635662  147184.168518  0.0  20466.00   \n",
       "paidAmount      1937350.0  126331.904661  147161.249009  1.0  20472.25   \n",
       "\n",
       "                     50%       75%        max  \n",
       "quantity            51.0      76.0      100.0  \n",
       "billedAmount    189280.0  385875.0  1000000.0  \n",
       "verifiedAmount   69984.0  179485.0   987357.0  \n",
       "paidAmount       70021.0  179838.0   985496.0  "
      ]
     },
     "execution_count": 7,
     "metadata": {},
     "output_type": "execute_result"
    }
   ],
   "source": [
    "df.describe().T #statistical summary of the demography claim csv file"
   ]
  },
  {
   "cell_type": "code",
   "execution_count": 8,
   "id": "5fbbcb43",
   "metadata": {},
   "outputs": [],
   "source": [
    "df_1 = pd.read_csv(r'C:\\Users\\HP\\Documents\\GIS\\rssb_medical claims\\claim.csv') #Loading Claim csv file in this notebook"
   ]
  },
  {
   "cell_type": "code",
   "execution_count": 9,
   "id": "3a5d5c26",
   "metadata": {
    "scrolled": false
   },
   "outputs": [
    {
     "data": {
      "text/html": [
       "<div>\n",
       "<style scoped>\n",
       "    .dataframe tbody tr th:only-of-type {\n",
       "        vertical-align: middle;\n",
       "    }\n",
       "\n",
       "    .dataframe tbody tr th {\n",
       "        vertical-align: top;\n",
       "    }\n",
       "\n",
       "    .dataframe thead th {\n",
       "        text-align: right;\n",
       "    }\n",
       "</style>\n",
       "<table border=\"1\" class=\"dataframe\">\n",
       "  <thead>\n",
       "    <tr style=\"text-align: right;\">\n",
       "      <th></th>\n",
       "      <th>id</th>\n",
       "      <th>createdAt</th>\n",
       "      <th>updatedAt</th>\n",
       "      <th>scheme</th>\n",
       "      <th>patientId</th>\n",
       "      <th>medicationCode</th>\n",
       "      <th>admissionDate</th>\n",
       "      <th>dischargeDate</th>\n",
       "      <th>medicationName</th>\n",
       "      <th>diagnosisCode</th>\n",
       "      <th>procedureCode</th>\n",
       "      <th>quantity</th>\n",
       "      <th>billedAmount</th>\n",
       "      <th>verifiedAmount</th>\n",
       "      <th>paidAmount</th>\n",
       "    </tr>\n",
       "  </thead>\n",
       "  <tbody>\n",
       "    <tr>\n",
       "      <th>0</th>\n",
       "      <td>66dc1204-4659-4a11-9caf-8d73e606f2c8</td>\n",
       "      <td>2024-04-23 00:50:53.250608</td>\n",
       "      <td>2024-04-23 00:50:53.276233</td>\n",
       "      <td>MUTUELLE</td>\n",
       "      <td>ab4dbfa7-9d5d-4341-b3b6-29a4c4b2edf1</td>\n",
       "      <td>32138</td>\n",
       "      <td>2023-10-01 14:30:46.964</td>\n",
       "      <td>2024-03-16 22:54:55.463</td>\n",
       "      <td>HEMORRHOIDECTOMY</td>\n",
       "      <td>ICD-J05AB01003</td>\n",
       "      <td>CPT-42242000FQZ445</td>\n",
       "      <td>75</td>\n",
       "      <td>2625</td>\n",
       "      <td>1716</td>\n",
       "      <td>909</td>\n",
       "    </tr>\n",
       "    <tr>\n",
       "      <th>1</th>\n",
       "      <td>71bde428-ef0a-4d42-bff1-473b751fb40e</td>\n",
       "      <td>2024-04-23 00:52:19.464756</td>\n",
       "      <td>2024-04-23 00:52:19.479903</td>\n",
       "      <td>MUTUELLE</td>\n",
       "      <td>5e11bb86-bdf5-460e-96f5-ac1ab31f3bd1</td>\n",
       "      <td>J01MA03001</td>\n",
       "      <td>2024-03-25 20:37:47.191</td>\n",
       "      <td>2024-04-12 20:39:00.497</td>\n",
       "      <td>CIPROFLOXACIN 500MG TABLET</td>\n",
       "      <td>ICD-J05AR01002</td>\n",
       "      <td>CPT-42242000FQZ429</td>\n",
       "      <td>73</td>\n",
       "      <td>521585</td>\n",
       "      <td>222971</td>\n",
       "      <td>298614</td>\n",
       "    </tr>\n",
       "    <tr>\n",
       "      <th>2</th>\n",
       "      <td>53ed2514-fad6-4925-abd2-605e272277e7</td>\n",
       "      <td>2024-04-23 00:50:53.317807</td>\n",
       "      <td>2024-04-23 00:50:53.348851</td>\n",
       "      <td>MUTUELLE</td>\n",
       "      <td>d1a7c6dc-cab5-4700-92b7-b406fddbdca4</td>\n",
       "      <td>M01AB05005</td>\n",
       "      <td>2023-08-13 22:05:54.853</td>\n",
       "      <td>2023-12-23 02:15:25.413</td>\n",
       "      <td>DICLOFENAC 75MG/ML INJECTION</td>\n",
       "      <td>ICD-J01XX04001</td>\n",
       "      <td>CPT-42242000FQZ419</td>\n",
       "      <td>100</td>\n",
       "      <td>559500</td>\n",
       "      <td>294490</td>\n",
       "      <td>265010</td>\n",
       "    </tr>\n",
       "    <tr>\n",
       "      <th>3</th>\n",
       "      <td>ce6f97e0-7179-4f13-bd59-2e91cbd53442</td>\n",
       "      <td>2024-04-23 00:50:53.377835</td>\n",
       "      <td>2024-04-23 00:50:53.406237</td>\n",
       "      <td>MUTUELLE</td>\n",
       "      <td>f095637f-2192-4a71-aa37-2f3cdbdd3790</td>\n",
       "      <td>A03F01001</td>\n",
       "      <td>2024-03-21 11:19:42.498</td>\n",
       "      <td>2024-04-16 09:17:25.318</td>\n",
       "      <td>METOCLOPRAMIDE 10MG TABLET</td>\n",
       "      <td>ICD-J01XC01001</td>\n",
       "      <td>CPT-42242000FQZ386</td>\n",
       "      <td>86</td>\n",
       "      <td>672520</td>\n",
       "      <td>672469</td>\n",
       "      <td>51</td>\n",
       "    </tr>\n",
       "  </tbody>\n",
       "</table>\n",
       "</div>"
      ],
      "text/plain": [
       "                                     id                   createdAt  \\\n",
       "0  66dc1204-4659-4a11-9caf-8d73e606f2c8  2024-04-23 00:50:53.250608   \n",
       "1  71bde428-ef0a-4d42-bff1-473b751fb40e  2024-04-23 00:52:19.464756   \n",
       "2  53ed2514-fad6-4925-abd2-605e272277e7  2024-04-23 00:50:53.317807   \n",
       "3  ce6f97e0-7179-4f13-bd59-2e91cbd53442  2024-04-23 00:50:53.377835   \n",
       "\n",
       "                    updatedAt    scheme                             patientId  \\\n",
       "0  2024-04-23 00:50:53.276233  MUTUELLE  ab4dbfa7-9d5d-4341-b3b6-29a4c4b2edf1   \n",
       "1  2024-04-23 00:52:19.479903  MUTUELLE  5e11bb86-bdf5-460e-96f5-ac1ab31f3bd1   \n",
       "2  2024-04-23 00:50:53.348851  MUTUELLE  d1a7c6dc-cab5-4700-92b7-b406fddbdca4   \n",
       "3  2024-04-23 00:50:53.406237  MUTUELLE  f095637f-2192-4a71-aa37-2f3cdbdd3790   \n",
       "\n",
       "  medicationCode            admissionDate            dischargeDate  \\\n",
       "0          32138  2023-10-01 14:30:46.964  2024-03-16 22:54:55.463   \n",
       "1     J01MA03001  2024-03-25 20:37:47.191  2024-04-12 20:39:00.497   \n",
       "2     M01AB05005  2023-08-13 22:05:54.853  2023-12-23 02:15:25.413   \n",
       "3      A03F01001  2024-03-21 11:19:42.498  2024-04-16 09:17:25.318   \n",
       "\n",
       "                  medicationName   diagnosisCode       procedureCode  \\\n",
       "0               HEMORRHOIDECTOMY  ICD-J05AB01003  CPT-42242000FQZ445   \n",
       "1     CIPROFLOXACIN 500MG TABLET  ICD-J05AR01002  CPT-42242000FQZ429   \n",
       "2   DICLOFENAC 75MG/ML INJECTION  ICD-J01XX04001  CPT-42242000FQZ419   \n",
       "3     METOCLOPRAMIDE 10MG TABLET  ICD-J01XC01001  CPT-42242000FQZ386   \n",
       "\n",
       "   quantity  billedAmount  verifiedAmount  paidAmount  \n",
       "0        75          2625            1716         909  \n",
       "1        73        521585          222971      298614  \n",
       "2       100        559500          294490      265010  \n",
       "3        86        672520          672469          51  "
      ]
     },
     "execution_count": 9,
     "metadata": {},
     "output_type": "execute_result"
    }
   ],
   "source": [
    "df_1.head(4) #first 4 rows of the claim file"
   ]
  },
  {
   "cell_type": "code",
   "execution_count": 10,
   "id": "825b5c3f",
   "metadata": {},
   "outputs": [
    {
     "name": "stdout",
     "output_type": "stream",
     "text": [
      "The claim csv file has empty data.\n"
     ]
    }
   ],
   "source": [
    "#verify if claim csv file has empty cells\n",
    "if df_1.isna().any().any():\n",
    "    print(\"The claim csv file has empty data.\")\n",
    "else:\n",
    "    print(\"The claim df does not have empty data.\")"
   ]
  },
  {
   "cell_type": "code",
   "execution_count": 10,
   "id": "0ea6dee6",
   "metadata": {},
   "outputs": [],
   "source": [
    "missing_valuess= df_1.isnull()"
   ]
  },
  {
   "cell_type": "code",
   "execution_count": 11,
   "id": "5262ada7",
   "metadata": {
    "scrolled": true
   },
   "outputs": [
    {
     "data": {
      "text/plain": [
       "id                 0\n",
       "createdAt          0\n",
       "updatedAt          0\n",
       "scheme             0\n",
       "patientId         86\n",
       "medicationCode     0\n",
       "admissionDate      0\n",
       "dischargeDate      0\n",
       "medicationName     0\n",
       "diagnosisCode      0\n",
       "procedureCode      0\n",
       "quantity           0\n",
       "billedAmount       0\n",
       "verifiedAmount     0\n",
       "paidAmount         0\n",
       "dtype: int64"
      ]
     },
     "execution_count": 11,
     "metadata": {},
     "output_type": "execute_result"
    }
   ],
   "source": [
    "missing_valuess.sum() # the number of missing values in each column"
   ]
  },
  {
   "cell_type": "code",
   "execution_count": 12,
   "id": "f2b46ac4",
   "metadata": {},
   "outputs": [
    {
     "data": {
      "text/plain": [
       "86"
      ]
     },
     "execution_count": 12,
     "metadata": {},
     "output_type": "execute_result"
    }
   ],
   "source": [
    "missing_valuess.sum().sum()"
   ]
  },
  {
   "cell_type": "markdown",
   "id": "2de9c86b",
   "metadata": {},
   "source": [
    "There are 86 missing values in PatientID column in the Claim csv data file"
   ]
  },
  {
   "cell_type": "markdown",
   "id": "561070fe",
   "metadata": {},
   "source": [
    "Statical summary of Claim file"
   ]
  },
  {
   "cell_type": "code",
   "execution_count": 13,
   "id": "5336fef7",
   "metadata": {
    "scrolled": true
   },
   "outputs": [
    {
     "data": {
      "text/html": [
       "<div>\n",
       "<style scoped>\n",
       "    .dataframe tbody tr th:only-of-type {\n",
       "        vertical-align: middle;\n",
       "    }\n",
       "\n",
       "    .dataframe tbody tr th {\n",
       "        vertical-align: top;\n",
       "    }\n",
       "\n",
       "    .dataframe thead th {\n",
       "        text-align: right;\n",
       "    }\n",
       "</style>\n",
       "<table border=\"1\" class=\"dataframe\">\n",
       "  <thead>\n",
       "    <tr style=\"text-align: right;\">\n",
       "      <th></th>\n",
       "      <th>count</th>\n",
       "      <th>mean</th>\n",
       "      <th>std</th>\n",
       "      <th>min</th>\n",
       "      <th>25%</th>\n",
       "      <th>50%</th>\n",
       "      <th>75%</th>\n",
       "      <th>max</th>\n",
       "    </tr>\n",
       "  </thead>\n",
       "  <tbody>\n",
       "    <tr>\n",
       "      <th>quantity</th>\n",
       "      <td>1937436.0</td>\n",
       "      <td>50.529179</td>\n",
       "      <td>28.862700</td>\n",
       "      <td>1.0</td>\n",
       "      <td>26.0</td>\n",
       "      <td>51.0</td>\n",
       "      <td>76.0</td>\n",
       "      <td>100.0</td>\n",
       "    </tr>\n",
       "    <tr>\n",
       "      <th>billedAmount</th>\n",
       "      <td>1937436.0</td>\n",
       "      <td>252618.366140</td>\n",
       "      <td>221337.220293</td>\n",
       "      <td>5.0</td>\n",
       "      <td>69625.0</td>\n",
       "      <td>189280.0</td>\n",
       "      <td>385875.0</td>\n",
       "      <td>1000000.0</td>\n",
       "    </tr>\n",
       "    <tr>\n",
       "      <th>verifiedAmount</th>\n",
       "      <td>1937436.0</td>\n",
       "      <td>126286.598175</td>\n",
       "      <td>147183.428811</td>\n",
       "      <td>0.0</td>\n",
       "      <td>20466.0</td>\n",
       "      <td>69983.5</td>\n",
       "      <td>179486.0</td>\n",
       "      <td>987357.0</td>\n",
       "    </tr>\n",
       "    <tr>\n",
       "      <th>paidAmount</th>\n",
       "      <td>1937436.0</td>\n",
       "      <td>126331.767964</td>\n",
       "      <td>147160.117983</td>\n",
       "      <td>1.0</td>\n",
       "      <td>20473.0</td>\n",
       "      <td>70022.0</td>\n",
       "      <td>179839.0</td>\n",
       "      <td>985496.0</td>\n",
       "    </tr>\n",
       "  </tbody>\n",
       "</table>\n",
       "</div>"
      ],
      "text/plain": [
       "                    count           mean            std  min      25%  \\\n",
       "quantity        1937436.0      50.529179      28.862700  1.0     26.0   \n",
       "billedAmount    1937436.0  252618.366140  221337.220293  5.0  69625.0   \n",
       "verifiedAmount  1937436.0  126286.598175  147183.428811  0.0  20466.0   \n",
       "paidAmount      1937436.0  126331.767964  147160.117983  1.0  20473.0   \n",
       "\n",
       "                     50%       75%        max  \n",
       "quantity            51.0      76.0      100.0  \n",
       "billedAmount    189280.0  385875.0  1000000.0  \n",
       "verifiedAmount   69983.5  179486.0   987357.0  \n",
       "paidAmount       70022.0  179839.0   985496.0  "
      ]
     },
     "execution_count": 13,
     "metadata": {},
     "output_type": "execute_result"
    }
   ],
   "source": [
    "df_1.describe().T #statistcal summary of the claim csv file"
   ]
  },
  {
   "cell_type": "markdown",
   "id": "b794f826",
   "metadata": {},
   "source": [
    "We realize that the claim file contains over 1.900.000 elements"
   ]
  },
  {
   "cell_type": "markdown",
   "id": "60b6af24",
   "metadata": {},
   "source": [
    "Claim file has the same  1937436 elements, an average paid amount of 1263318, a max paid amount of 9854960"
   ]
  },
  {
   "cell_type": "code",
   "execution_count": 14,
   "id": "682ea641",
   "metadata": {},
   "outputs": [
    {
     "name": "stdout",
     "output_type": "stream",
     "text": [
      "<class 'pandas.core.frame.DataFrame'>\n",
      "RangeIndex: 1937436 entries, 0 to 1937435\n",
      "Data columns (total 15 columns):\n",
      " #   Column          Dtype \n",
      "---  ------          ----- \n",
      " 0   id              object\n",
      " 1   createdAt       object\n",
      " 2   updatedAt       object\n",
      " 3   scheme          object\n",
      " 4   patientId       object\n",
      " 5   medicationCode  object\n",
      " 6   admissionDate   object\n",
      " 7   dischargeDate   object\n",
      " 8   medicationName  object\n",
      " 9   diagnosisCode   object\n",
      " 10  procedureCode   object\n",
      " 11  quantity        int64 \n",
      " 12  billedAmount    int64 \n",
      " 13  verifiedAmount  int64 \n",
      " 14  paidAmount      int64 \n",
      "dtypes: int64(4), object(11)\n",
      "memory usage: 221.7+ MB\n"
     ]
    }
   ],
   "source": [
    "df_1.info() #information contained in the Claim file"
   ]
  },
  {
   "cell_type": "code",
   "execution_count": 15,
   "id": "f4a57d85",
   "metadata": {},
   "outputs": [],
   "source": [
    "df_2= pd.read_csv(r'C:\\Users\\HP\\Documents\\GIS\\rssb_medical claims\\demography.csv')"
   ]
  },
  {
   "cell_type": "code",
   "execution_count": 16,
   "id": "f40b3898",
   "metadata": {
    "scrolled": true
   },
   "outputs": [
    {
     "data": {
      "text/html": [
       "<div>\n",
       "<style scoped>\n",
       "    .dataframe tbody tr th:only-of-type {\n",
       "        vertical-align: middle;\n",
       "    }\n",
       "\n",
       "    .dataframe tbody tr th {\n",
       "        vertical-align: top;\n",
       "    }\n",
       "\n",
       "    .dataframe thead th {\n",
       "        text-align: right;\n",
       "    }\n",
       "</style>\n",
       "<table border=\"1\" class=\"dataframe\">\n",
       "  <thead>\n",
       "    <tr style=\"text-align: right;\">\n",
       "      <th></th>\n",
       "      <th>id</th>\n",
       "      <th>createdAt</th>\n",
       "      <th>updatedAt</th>\n",
       "      <th>firstName</th>\n",
       "      <th>lastName</th>\n",
       "      <th>gender</th>\n",
       "      <th>yearOfBirth</th>\n",
       "      <th>location</th>\n",
       "      <th>facilityName</th>\n",
       "    </tr>\n",
       "  </thead>\n",
       "  <tbody>\n",
       "    <tr>\n",
       "      <th>0</th>\n",
       "      <td>9b2af029-7584-4229-8710-7335806c1440</td>\n",
       "      <td>2024-04-23 00:50:51.717305</td>\n",
       "      <td>2024-04-23 00:50:51.717305</td>\n",
       "      <td>Carolyn</td>\n",
       "      <td>Fritsch</td>\n",
       "      <td>FEMALE</td>\n",
       "      <td>1973</td>\n",
       "      <td>Lake Newell</td>\n",
       "      <td>Forttown</td>\n",
       "    </tr>\n",
       "    <tr>\n",
       "      <th>1</th>\n",
       "      <td>7feb5992-93e6-4b12-bf82-098e10f5291d</td>\n",
       "      <td>2024-04-23 00:50:51.879266</td>\n",
       "      <td>2024-04-23 00:50:51.879266</td>\n",
       "      <td>Fred</td>\n",
       "      <td>Heller</td>\n",
       "      <td>FEMALE</td>\n",
       "      <td>1982</td>\n",
       "      <td>Valerieworth</td>\n",
       "      <td>La Stamal</td>\n",
       "    </tr>\n",
       "    <tr>\n",
       "      <th>2</th>\n",
       "      <td>12c23628-57ab-414b-a2d0-15ce6f756db2</td>\n",
       "      <td>2024-04-23 00:50:52.001138</td>\n",
       "      <td>2024-04-23 00:50:52.001138</td>\n",
       "      <td>Ella</td>\n",
       "      <td>Rath</td>\n",
       "      <td>FEMALE</td>\n",
       "      <td>1913</td>\n",
       "      <td>Louton</td>\n",
       "      <td>Grand Mountnell</td>\n",
       "    </tr>\n",
       "    <tr>\n",
       "      <th>3</th>\n",
       "      <td>3bb1ebe6-583b-4abd-a764-fe765383814d</td>\n",
       "      <td>2024-04-23 00:50:52.116767</td>\n",
       "      <td>2024-04-23 00:50:52.116767</td>\n",
       "      <td>Erik</td>\n",
       "      <td>Jaskolski</td>\n",
       "      <td>FEMALE</td>\n",
       "      <td>1922</td>\n",
       "      <td>Lessiestad</td>\n",
       "      <td>Prince Statenor</td>\n",
       "    </tr>\n",
       "  </tbody>\n",
       "</table>\n",
       "</div>"
      ],
      "text/plain": [
       "                                     id                   createdAt  \\\n",
       "0  9b2af029-7584-4229-8710-7335806c1440  2024-04-23 00:50:51.717305   \n",
       "1  7feb5992-93e6-4b12-bf82-098e10f5291d  2024-04-23 00:50:51.879266   \n",
       "2  12c23628-57ab-414b-a2d0-15ce6f756db2  2024-04-23 00:50:52.001138   \n",
       "3  3bb1ebe6-583b-4abd-a764-fe765383814d  2024-04-23 00:50:52.116767   \n",
       "\n",
       "                    updatedAt firstName   lastName  gender  yearOfBirth  \\\n",
       "0  2024-04-23 00:50:51.717305   Carolyn    Fritsch  FEMALE         1973   \n",
       "1  2024-04-23 00:50:51.879266      Fred     Heller  FEMALE         1982   \n",
       "2  2024-04-23 00:50:52.001138      Ella       Rath  FEMALE         1913   \n",
       "3  2024-04-23 00:50:52.116767      Erik  Jaskolski  FEMALE         1922   \n",
       "\n",
       "       location     facilityName  \n",
       "0   Lake Newell         Forttown  \n",
       "1  Valerieworth        La Stamal  \n",
       "2        Louton  Grand Mountnell  \n",
       "3    Lessiestad  Prince Statenor  "
      ]
     },
     "execution_count": 16,
     "metadata": {},
     "output_type": "execute_result"
    }
   ],
   "source": [
    "df_2.head(4) #first 4 rows of the demography file"
   ]
  },
  {
   "cell_type": "code",
   "execution_count": 17,
   "id": "24b57a7a",
   "metadata": {},
   "outputs": [
    {
     "name": "stdout",
     "output_type": "stream",
     "text": [
      "The demography df does not have missing data.\n"
     ]
    }
   ],
   "source": [
    "#verify if demography csv file has empty cells\n",
    "if df_2.isna().any().any():\n",
    "    print(\"The demography csv file has empty data.\")\n",
    "else:\n",
    "    print(\"The demography df does not have missing data.\")"
   ]
  },
  {
   "cell_type": "markdown",
   "id": "150d8d33",
   "metadata": {},
   "source": [
    "Statistical summary of Demography"
   ]
  },
  {
   "cell_type": "code",
   "execution_count": 18,
   "id": "4ee8a0b2",
   "metadata": {
    "scrolled": false
   },
   "outputs": [
    {
     "data": {
      "text/html": [
       "<div>\n",
       "<style scoped>\n",
       "    .dataframe tbody tr th:only-of-type {\n",
       "        vertical-align: middle;\n",
       "    }\n",
       "\n",
       "    .dataframe tbody tr th {\n",
       "        vertical-align: top;\n",
       "    }\n",
       "\n",
       "    .dataframe thead th {\n",
       "        text-align: right;\n",
       "    }\n",
       "</style>\n",
       "<table border=\"1\" class=\"dataframe\">\n",
       "  <thead>\n",
       "    <tr style=\"text-align: right;\">\n",
       "      <th></th>\n",
       "      <th>count</th>\n",
       "      <th>mean</th>\n",
       "      <th>std</th>\n",
       "      <th>min</th>\n",
       "      <th>25%</th>\n",
       "      <th>50%</th>\n",
       "      <th>75%</th>\n",
       "      <th>max</th>\n",
       "    </tr>\n",
       "  </thead>\n",
       "  <tbody>\n",
       "    <tr>\n",
       "      <th>yearOfBirth</th>\n",
       "      <td>38747.0</td>\n",
       "      <td>1983.783648</td>\n",
       "      <td>25.537726</td>\n",
       "      <td>1900.0</td>\n",
       "      <td>1965.0</td>\n",
       "      <td>1985.0</td>\n",
       "      <td>2005.0</td>\n",
       "      <td>2024.0</td>\n",
       "    </tr>\n",
       "  </tbody>\n",
       "</table>\n",
       "</div>"
      ],
      "text/plain": [
       "               count         mean        std     min     25%     50%     75%  \\\n",
       "yearOfBirth  38747.0  1983.783648  25.537726  1900.0  1965.0  1985.0  2005.0   \n",
       "\n",
       "                max  \n",
       "yearOfBirth  2024.0  "
      ]
     },
     "execution_count": 18,
     "metadata": {},
     "output_type": "execute_result"
    }
   ],
   "source": [
    "df_2.describe().T"
   ]
  },
  {
   "cell_type": "markdown",
   "id": "d014672e",
   "metadata": {},
   "source": [
    "We see that the demography file has 38747 elements where the oldest(max) person was born around 1900 and the youngest during 2024.\n",
    "The standard deviation is 25.5 years\n",
    "The average of year being 1983.7"
   ]
  },
  {
   "cell_type": "code",
   "execution_count": null,
   "id": "67ce4efc",
   "metadata": {},
   "outputs": [],
   "source": []
  },
  {
   "cell_type": "markdown",
   "id": "321ef31a",
   "metadata": {},
   "source": [
    "### Froud"
   ]
  },
  {
   "cell_type": "code",
   "execution_count": 28,
   "id": "3fa81a60",
   "metadata": {},
   "outputs": [],
   "source": [
    "# Calculate ratio of paid amount to billed amount\n",
    "df['paid_to_billed_ratio'] = df['paidAmount'] / df['billedAmount']"
   ]
  },
  {
   "cell_type": "code",
   "execution_count": 31,
   "id": "4446c9f7",
   "metadata": {},
   "outputs": [
    {
     "name": "stdout",
     "output_type": "stream",
     "text": [
      "The ration paidAmount/billedAmout is : 0          0.282008\n",
      "1          0.106034\n",
      "2          0.270044\n",
      "3          0.757197\n",
      "4          0.646914\n",
      "             ...   \n",
      "1937345    0.808148\n",
      "1937346    0.566765\n",
      "1937347    0.818129\n",
      "1937348    0.993063\n",
      "1937349    0.497343\n",
      "Name: paid_to_billed_ratio, Length: 1937350, dtype: float64\n"
     ]
    }
   ],
   "source": [
    "print(f'The ration paidAmount/billedAmout is :', df['paid_to_billed_ratio'] )"
   ]
  },
  {
   "cell_type": "code",
   "execution_count": 34,
   "id": "c4940d1b",
   "metadata": {
    "scrolled": true
   },
   "outputs": [
    {
     "data": {
      "text/plain": [
       "105445     0.000002\n",
       "353123     0.000005\n",
       "806207     0.000005\n",
       "1806915    0.000005\n",
       "607798     0.000008\n",
       "             ...   \n",
       "1381316    1.000000\n",
       "1499243    1.000000\n",
       "777924     1.000000\n",
       "1458312    1.000000\n",
       "378344     1.000000\n",
       "Name: paid_to_billed_ratio, Length: 1937350, dtype: float64"
      ]
     },
     "execution_count": 34,
     "metadata": {},
     "output_type": "execute_result"
    }
   ],
   "source": [
    "df['paid_to_billed_ratio'].sort_values() #sorting the ration of paid amount/billed amount"
   ]
  },
  {
   "cell_type": "markdown",
   "id": "b827fb9d",
   "metadata": {},
   "source": [
    "INTERPRETATION of RATION"
   ]
  },
  {
   "cell_type": "markdown",
   "id": "bd6435df",
   "metadata": {},
   "source": [
    "If The highest ration is 1 means that no payments has exceeded billed amount.\n",
    "   "
   ]
  },
  {
   "cell_type": "markdown",
   "id": "f4b4c016",
   "metadata": {},
   "source": [
    "If The ration is less than one suggests that the amount paid is less than the billed amount."
   ]
  },
  {
   "cell_type": "markdown",
   "id": "0c5feaff",
   "metadata": {},
   "source": [
    "This could signal challenges with reimbursment rates negotiated with insurers, resulting in underpayment relative to billed charges.\n",
    "        It may also indicate denials or delays in payment from insurers, leading to lower collections.\n",
    "    "
   ]
  },
  {
   "cell_type": "markdown",
   "id": "b2433774",
   "metadata": {},
   "source": [
    "Ideal ratio:\n",
    "        Is when the ration is close to 1, indicating the amount paid aligns closely with the initially billed charges.\n",
    "        This suggests efficient billing practices, accurate coding, effective negociation with insurers, and timely reimbursment, resulting in optimal revenue realization."
   ]
  },
  {
   "cell_type": "code",
   "execution_count": 35,
   "id": "86a2f982",
   "metadata": {},
   "outputs": [],
   "source": [
    "from sklearn.ensemble import IsolationForest\n",
    "\n",
    "# Define features for anomaly detection\n",
    "features = ['billedAmount', 'paidAmount', 'paid_to_billed_ratio']\n",
    "\n",
    "# Fit Isolation Forest model\n",
    "iso_forest = IsolationForest(contamination=0.1)\n",
    "df['is_outlier'] = iso_forest.fit_predict(df[features])\n"
   ]
  },
  {
   "cell_type": "code",
   "execution_count": 37,
   "id": "2e0a1f20",
   "metadata": {
    "scrolled": true
   },
   "outputs": [
    {
     "data": {
      "image/png": "[encoded data removed]",
      "text/plain": [
       "<Figure size 1000x600 with 1 Axes>"
      ]
     },
     "metadata": {},
     "output_type": "display_data"
    }
   ],
   "source": [
    "import matplotlib.pyplot as plt\n",
    "\n",
    "# Set the figure size\n",
    "plt.figure(figsize=(10, 6))\n",
    "\n",
    "# Visualize distribution of paid to billed ratio\n",
    "plt.hist(df['paid_to_billed_ratio'])\n",
    "plt.xlabel('Paid to Billed Ratio')\n",
    "plt.ylabel('Frequency')\n",
    "plt.title('Distribution of Paid to Billed Ratio')\n",
    "plt.show()\n"
   ]
  },
  {
   "cell_type": "markdown",
   "id": "08938823",
   "metadata": {},
   "source": [
    "INTERPRETATION of the distribution to Non-Technical"
   ]
  },
  {
   "cell_type": "markdown",
   "id": "57dcf372",
   "metadata": {},
   "source": [
    "You have a bunch of numbers representing how much money a person paid for their medical treatment compared to how much the treatment actually cost. This is called the \"paid to billed ratio.\" The above chart visualizes these numbers using a histogram."
   ]
  },
  {
   "cell_type": "markdown",
   "id": "00cfb41f",
   "metadata": {},
   "source": [
    "In the histogram, we have the \"paid to billed ratio\" values on the horizontal axis (like a number line) and the frequency of each value on the vertical axis (like a bar chart). Each bar in the histogram represents how many times a particular \"paid to billed ratio\" value occurs in our dataset.\n",
    "\n",
    "So, if you look at the histogram, you'll see a bunch of bars. Each bar shows you how many people have a \"paid to billed ratio\" within a certain range. For example, if a bar is taller, it means more people have a \"paid to billed ratio\" in that range."
   ]
  },
  {
   "cell_type": "markdown",
   "id": "6ce7987a",
   "metadata": {},
   "source": [
    "his helps us see if most people paid close to what they were billed, or if there are some cases where people paid significantly more or less than the billed amount. It's a way to understand the patterns in the data and spot any unusual or unexpected situations."
   ]
  },
  {
   "cell_type": "markdown",
   "id": "ec4d98f0",
   "metadata": {},
   "source": [
    "                        Verification if the RATION DATA are normaly distributed"
   ]
  },
  {
   "cell_type": "code",
   "execution_count": 41,
   "id": "c9e9efb1",
   "metadata": {
    "scrolled": false
   },
   "outputs": [
    {
     "data": {
      "image/png": "[encoded data removed]",
      "text/plain": [
       "<Figure size 640x480 with 1 Axes>"
      ]
     },
     "metadata": {},
     "output_type": "display_data"
    },
    {
     "data": {
      "image/png": "[encoded data removed]",
      "text/plain": [
       "<Figure size 640x480 with 1 Axes>"
      ]
     },
     "metadata": {},
     "output_type": "display_data"
    },
    {
     "name": "stdout",
     "output_type": "stream",
     "text": [
      "Shapiro-Wilk test p-value: 0.6119540333747864\n",
      "Data follows a normal distribution\n"
     ]
    }
   ],
   "source": [
    "import numpy as np\n",
    "import matplotlib.pyplot as plt\n",
    "from scipy import stats\n",
    "\n",
    "# Generate example data\n",
    "df = np.random.normal(loc=0, scale=1, size=1000)\n",
    "\n",
    "# Plot histogram\n",
    "plt.hist(df, bins=30, density=True, alpha=0.6, color='blue')\n",
    "\n",
    "# Add a normal distribution curve for comparison\n",
    "xmin, xmax = plt.xlim()\n",
    "x = np.linspace(xmin, xmax, 100)\n",
    "p = stats.norm.pdf(x, np.mean(df), np.std(df))\n",
    "plt.plot(x, p, 'k', linewidth=2)\n",
    "\n",
    "# Visual inspection\n",
    "plt.title('Histogram of Data (Blue) with Normal Distribution (Black)')\n",
    "plt.xlabel('Value')\n",
    "plt.ylabel('Density')\n",
    "plt.show()\n",
    "\n",
    "# Q-Q plot\n",
    "plt.figure()\n",
    "stats.probplot(df, dist=\"norm\", plot=plt)\n",
    "plt.title('Q-Q Plot')\n",
    "plt.show()\n",
    "\n",
    "# Shapiro-Wilk test for normality\n",
    "statistic, p_value = stats.shapiro(df)\n",
    "print(\"Shapiro-Wilk test p-value:\", p_value)\n",
    "if p_value < 0.05:\n",
    "    print(\"Data does not follow a normal distribution\")\n",
    "else:\n",
    "    print(\"Data follows a normal distribution\")\n"
   ]
  },
  {
   "cell_type": "markdown",
   "id": "d329b982",
   "metadata": {},
   "source": [
    "SCATTER OF NUMBER OF PEOPLE ADMITTED OVER TIME"
   ]
  },
  {
   "cell_type": "code",
   "execution_count": 19,
   "id": "a7600008",
   "metadata": {},
   "outputs": [
    {
     "data": {
      "image/png": "[encoded data removed]",
      "text/plain": [
       "<Figure size 1000x600 with 1 Axes>"
      ]
     },
     "metadata": {},
     "output_type": "display_data"
    }
   ],
   "source": [
    "import matplotlib.pyplot as plt\n",
    "\n",
    "# Assuming 'df' is your pandas DataFrame with 'admission date' and 'patientid' columns\n",
    "# For example:\n",
    "# df = pd.read_csv('your_data.csv')  # Replace this with your actual DataFrame\n",
    "\n",
    "# Convert 'admission date' column to datetime type\n",
    "df['new_admissionDate'] = pd.to_datetime(df['new_admissionDate'])\n",
    "\n",
    "# Group by 'admission date' and count unique 'patientid's for each date\n",
    "ids_received = df.groupby('new_admissionDate')['id'].nunique()\n",
    "\n",
    "# Create a scatter plot of 'admission date' vs number of unique 'patientid's\n",
    "plt.figure(figsize=(10, 6))  # Set the figure size\n",
    "plt.scatter(ids_received.index, ids_received.values, color='blue', alpha=0.5)  # Plot admission date vs number of IDs\n",
    "plt.title('Number of IDs Received Over Time')  # Set the title of the plot\n",
    "plt.xlabel('Admission Date')  # Set the label for the x-axis\n",
    "plt.ylabel('Number of IDs')  # Set the label for the y-axis\n",
    "plt.grid(True)  # Enable grid lines\n",
    "plt.show()  # Display the plot\n"
   ]
  },
  {
   "cell_type": "code",
   "execution_count": 21,
   "id": "2639b8be",
   "metadata": {},
   "outputs": [
    {
     "data": {
      "text/plain": [
       "new_admissionDate\n",
       "2023-04-01    4572\n",
       "2023-04-02    4924\n",
       "2023-04-03    4940\n",
       "Name: id, dtype: int64"
      ]
     },
     "execution_count": 21,
     "metadata": {},
     "output_type": "execute_result"
    }
   ],
   "source": [
    "ids_received.head(3)"
   ]
  },
  {
   "cell_type": "markdown",
   "id": "6f728a9b",
   "metadata": {},
   "source": [
    "## AGE"
   ]
  },
  {
   "cell_type": "markdown",
   "id": "9680e990",
   "metadata": {},
   "source": [
    "Sort by age"
   ]
  },
  {
   "cell_type": "code",
   "execution_count": 20,
   "id": "46d97052",
   "metadata": {
    "scrolled": true
   },
   "outputs": [
    {
     "data": {
      "text/html": [
       "<div>\n",
       "<style scoped>\n",
       "    .dataframe tbody tr th:only-of-type {\n",
       "        vertical-align: middle;\n",
       "    }\n",
       "\n",
       "    .dataframe tbody tr th {\n",
       "        vertical-align: top;\n",
       "    }\n",
       "\n",
       "    .dataframe thead th {\n",
       "        text-align: right;\n",
       "    }\n",
       "</style>\n",
       "<table border=\"1\" class=\"dataframe\">\n",
       "  <thead>\n",
       "    <tr style=\"text-align: right;\">\n",
       "      <th></th>\n",
       "      <th>id</th>\n",
       "      <th>createdAt</th>\n",
       "      <th>updatedAt</th>\n",
       "      <th>firstName</th>\n",
       "      <th>lastName</th>\n",
       "      <th>gender</th>\n",
       "      <th>yearOfBirth</th>\n",
       "      <th>location</th>\n",
       "      <th>facilityName</th>\n",
       "    </tr>\n",
       "  </thead>\n",
       "  <tbody>\n",
       "    <tr>\n",
       "      <th>3991</th>\n",
       "      <td>cb92376e-6f82-4ccd-9e36-2e0618b823f7</td>\n",
       "      <td>2024-04-23 00:52:57.554566</td>\n",
       "      <td>2024-04-23 00:52:57.554566</td>\n",
       "      <td>Dominic</td>\n",
       "      <td>Jenkins</td>\n",
       "      <td>MALE</td>\n",
       "      <td>1900</td>\n",
       "      <td>Morarville</td>\n",
       "      <td>Ritral</td>\n",
       "    </tr>\n",
       "    <tr>\n",
       "      <th>2406</th>\n",
       "      <td>5a463ff4-52f9-4b6c-859b-cee37c1e85dc</td>\n",
       "      <td>2024-04-23 00:52:09.00756</td>\n",
       "      <td>2024-04-23 00:52:09.00756</td>\n",
       "      <td>Vincent</td>\n",
       "      <td>Hartmann-Ferry</td>\n",
       "      <td>FEMALE</td>\n",
       "      <td>1900</td>\n",
       "      <td>East Alverabury</td>\n",
       "      <td>Royal Ucold</td>\n",
       "    </tr>\n",
       "    <tr>\n",
       "      <th>439</th>\n",
       "      <td>f1d2343a-cc0d-4ce6-91c5-28bf1bf4c31b</td>\n",
       "      <td>2024-04-23 00:51:07.960583</td>\n",
       "      <td>2024-04-23 00:51:07.960583</td>\n",
       "      <td>Lula</td>\n",
       "      <td>Lockman</td>\n",
       "      <td>MALE</td>\n",
       "      <td>1900</td>\n",
       "      <td>Rauborough</td>\n",
       "      <td>North Dsportchil Under Saintehou</td>\n",
       "    </tr>\n",
       "    <tr>\n",
       "      <th>1088</th>\n",
       "      <td>7ca21e81-4773-431f-8884-d45cd53c6788</td>\n",
       "      <td>2024-04-23 00:51:28.67236</td>\n",
       "      <td>2024-04-23 00:51:28.67236</td>\n",
       "      <td>Timmy</td>\n",
       "      <td>Paucek</td>\n",
       "      <td>MALE</td>\n",
       "      <td>1900</td>\n",
       "      <td>Topeka</td>\n",
       "      <td>Port Ntutho</td>\n",
       "    </tr>\n",
       "    <tr>\n",
       "      <th>1098</th>\n",
       "      <td>2ed9aae1-2615-46f4-87fe-89bd61873eab</td>\n",
       "      <td>2024-04-23 00:51:28.957278</td>\n",
       "      <td>2024-04-23 00:51:28.957278</td>\n",
       "      <td>Geoffrey</td>\n",
       "      <td>Ruecker</td>\n",
       "      <td>MALE</td>\n",
       "      <td>1900</td>\n",
       "      <td>Dahliafort</td>\n",
       "      <td>Chladeda</td>\n",
       "    </tr>\n",
       "    <tr>\n",
       "      <th>4544</th>\n",
       "      <td>05b49069-6cc0-4eff-90e3-e85dc788713a</td>\n",
       "      <td>2024-04-23 00:53:15.408237</td>\n",
       "      <td>2024-04-23 00:53:15.408237</td>\n",
       "      <td>Myra</td>\n",
       "      <td>Goodwin</td>\n",
       "      <td>FEMALE</td>\n",
       "      <td>1900</td>\n",
       "      <td>Joanborough</td>\n",
       "      <td>Leania</td>\n",
       "    </tr>\n",
       "  </tbody>\n",
       "</table>\n",
       "</div>"
      ],
      "text/plain": [
       "                                        id                   createdAt  \\\n",
       "3991  cb92376e-6f82-4ccd-9e36-2e0618b823f7  2024-04-23 00:52:57.554566   \n",
       "2406  5a463ff4-52f9-4b6c-859b-cee37c1e85dc   2024-04-23 00:52:09.00756   \n",
       "439   f1d2343a-cc0d-4ce6-91c5-28bf1bf4c31b  2024-04-23 00:51:07.960583   \n",
       "1088  7ca21e81-4773-431f-8884-d45cd53c6788   2024-04-23 00:51:28.67236   \n",
       "1098  2ed9aae1-2615-46f4-87fe-89bd61873eab  2024-04-23 00:51:28.957278   \n",
       "4544  05b49069-6cc0-4eff-90e3-e85dc788713a  2024-04-23 00:53:15.408237   \n",
       "\n",
       "                       updatedAt firstName        lastName  gender  \\\n",
       "3991  2024-04-23 00:52:57.554566   Dominic         Jenkins    MALE   \n",
       "2406   2024-04-23 00:52:09.00756   Vincent  Hartmann-Ferry  FEMALE   \n",
       "439   2024-04-23 00:51:07.960583      Lula         Lockman    MALE   \n",
       "1088   2024-04-23 00:51:28.67236     Timmy          Paucek    MALE   \n",
       "1098  2024-04-23 00:51:28.957278  Geoffrey         Ruecker    MALE   \n",
       "4544  2024-04-23 00:53:15.408237      Myra         Goodwin  FEMALE   \n",
       "\n",
       "      yearOfBirth         location                      facilityName  \n",
       "3991         1900       Morarville                            Ritral  \n",
       "2406         1900  East Alverabury                       Royal Ucold  \n",
       "439          1900       Rauborough  North Dsportchil Under Saintehou  \n",
       "1088         1900           Topeka                       Port Ntutho  \n",
       "1098         1900       Dahliafort                          Chladeda  \n",
       "4544         1900      Joanborough                            Leania  "
      ]
     },
     "execution_count": 20,
     "metadata": {},
     "output_type": "execute_result"
    }
   ],
   "source": [
    "BirthYear =df_2['yearOfBirth']\n",
    "sorted_BirthYeart= df_2.sort_values(by='yearOfBirth')\n",
    "sorted_BirthYeart.head(6)"
   ]
  },
  {
   "cell_type": "markdown",
   "id": "ce3359fe",
   "metadata": {},
   "source": [
    "Age Distribution "
   ]
  },
  {
   "cell_type": "code",
   "execution_count": 21,
   "id": "a5549f07",
   "metadata": {},
   "outputs": [
    {
     "data": {
      "image/png": "[encoded data removed]",
      "text/plain": [
       "<Figure size 640x480 with 1 Axes>"
      ]
     },
     "metadata": {},
     "output_type": "display_data"
    }
   ],
   "source": [
    "sns.histplot(data=df_2, x='yearOfBirth', bins=60, kde= True, color= 'skyblue')\n",
    "plt.xlabel('Birth year')\n",
    "plt.ylabel('Frequency')\n",
    "plt.title('Birth Year Distribution')\n",
    "plt.show()"
   ]
  },
  {
   "cell_type": "markdown",
   "id": "bec3097d",
   "metadata": {},
   "source": [
    "From the above histograpm we see that people born in 60s, 92,93 and babies born during covid are the most consumer of insurence services.\n",
    "Don't you notice that the datasets has people who were born in 1900 and still show frequencies in medical insurences? either it is true (alive) or not(dead) therefore a fraud in medical insurence. "
   ]
  },
  {
   "cell_type": "markdown",
   "id": "0447972d",
   "metadata": {},
   "source": [
    "### LOCATION"
   ]
  },
  {
   "cell_type": "code",
   "execution_count": 22,
   "id": "d13c5686",
   "metadata": {},
   "outputs": [
    {
     "name": "stdout",
     "output_type": "stream",
     "text": [
      "number of hospitals in dataset are 100\n"
     ]
    }
   ],
   "source": [
    "hospitals = df_2['facilityName'].unique() # health facilities(hospitals)\n",
    "number_= len(hospitals)\n",
    "print(f'number of hospitals in dataset are {number_}')"
   ]
  },
  {
   "cell_type": "code",
   "execution_count": 23,
   "id": "e7d347be",
   "metadata": {
    "scrolled": true
   },
   "outputs": [
    {
     "name": "stdout",
     "output_type": "stream",
     "text": [
      "               paidAmount  billedAmount  verifiedAmount\n",
      "facilityName                                           \n",
      "Anglassron     2709566138    5417175125      2707608987\n",
      "Bamphills      2448134844    4868185820      2420050976\n",
      "Battelklouspa  2638862333    5293778955      2654916622\n",
      "Bea            2352793369    4718510965      2365717596\n",
      "Bridbelwey     2290261840    4557350990      2267089150\n",
      "...                   ...           ...             ...\n",
      "West Dipert    2662282847    5291313185      2629030338\n",
      "West Rayswade  2687939063    5357816035      2669876972\n",
      "Whiteyarm      2419074253    4872410295      2453336042\n",
      "Wnaskas        2347211130    4660405970      2313194840\n",
      "Wya Point      2382438819    4798574355      2416135536\n",
      "\n",
      "[100 rows x 3 columns]\n"
     ]
    }
   ],
   "source": [
    "AmountPer_facility= df.groupby('facilityName')[['paidAmount','billedAmount','verifiedAmount']].sum() # sum amount paid per facility name in demography claim file\n",
    "print(AmountPer_facility)"
   ]
  },
  {
   "cell_type": "code",
   "execution_count": 24,
   "id": "47583cb0",
   "metadata": {},
   "outputs": [],
   "source": [
    "HighExpenses = AmountPer_facility[AmountPer_facility['paidAmount']>126331] # facilities with billed amount above average"
   ]
  },
  {
   "cell_type": "code",
   "execution_count": 25,
   "id": "73758ac3",
   "metadata": {},
   "outputs": [
    {
     "data": {
      "text/html": [
       "<div>\n",
       "<style scoped>\n",
       "    .dataframe tbody tr th:only-of-type {\n",
       "        vertical-align: middle;\n",
       "    }\n",
       "\n",
       "    .dataframe tbody tr th {\n",
       "        vertical-align: top;\n",
       "    }\n",
       "\n",
       "    .dataframe thead th {\n",
       "        text-align: right;\n",
       "    }\n",
       "</style>\n",
       "<table border=\"1\" class=\"dataframe\">\n",
       "  <thead>\n",
       "    <tr style=\"text-align: right;\">\n",
       "      <th></th>\n",
       "      <th>paidAmount</th>\n",
       "      <th>billedAmount</th>\n",
       "      <th>verifiedAmount</th>\n",
       "    </tr>\n",
       "    <tr>\n",
       "      <th>facilityName</th>\n",
       "      <th></th>\n",
       "      <th></th>\n",
       "      <th></th>\n",
       "    </tr>\n",
       "  </thead>\n",
       "  <tbody>\n",
       "    <tr>\n",
       "      <th>Anglassron</th>\n",
       "      <td>2709566138</td>\n",
       "      <td>5417175125</td>\n",
       "      <td>2707608987</td>\n",
       "    </tr>\n",
       "    <tr>\n",
       "      <th>Bamphills</th>\n",
       "      <td>2448134844</td>\n",
       "      <td>4868185820</td>\n",
       "      <td>2420050976</td>\n",
       "    </tr>\n",
       "    <tr>\n",
       "      <th>Battelklouspa</th>\n",
       "      <td>2638862333</td>\n",
       "      <td>5293778955</td>\n",
       "      <td>2654916622</td>\n",
       "    </tr>\n",
       "    <tr>\n",
       "      <th>Bea</th>\n",
       "      <td>2352793369</td>\n",
       "      <td>4718510965</td>\n",
       "      <td>2365717596</td>\n",
       "    </tr>\n",
       "    <tr>\n",
       "      <th>Bridbelwey</th>\n",
       "      <td>2290261840</td>\n",
       "      <td>4557350990</td>\n",
       "      <td>2267089150</td>\n",
       "    </tr>\n",
       "  </tbody>\n",
       "</table>\n",
       "</div>"
      ],
      "text/plain": [
       "               paidAmount  billedAmount  verifiedAmount\n",
       "facilityName                                           \n",
       "Anglassron     2709566138    5417175125      2707608987\n",
       "Bamphills      2448134844    4868185820      2420050976\n",
       "Battelklouspa  2638862333    5293778955      2654916622\n",
       "Bea            2352793369    4718510965      2365717596\n",
       "Bridbelwey     2290261840    4557350990      2267089150"
      ]
     },
     "execution_count": 25,
     "metadata": {},
     "output_type": "execute_result"
    }
   ],
   "source": [
    "HighExpenses.head(5)"
   ]
  },
  {
   "cell_type": "code",
   "execution_count": 134,
   "id": "eaf39641",
   "metadata": {},
   "outputs": [
    {
     "name": "stdout",
     "output_type": "stream",
     "text": [
      "                                           id   firstName  lastName  gender  \\\n",
      "224079   ed5c17d0-f865-48ce-a74a-3d183895c924     Jeffery     Lynch  FEMALE   \n",
      "226532   418a52ca-051d-40d6-ab24-ca5b734bc450     Spencer    Hansen    MALE   \n",
      "302259   a9b65ef8-8349-42bc-9c88-99a721940f4f         Amy   Goldner  FEMALE   \n",
      "1085471  cf389477-bafc-45ae-9b90-c46e7ada6e80      Gerald   Schuppe    MALE   \n",
      "178981   0df6e810-1280-4602-8204-8eacf2de1100  Jacqueline      West  FEMALE   \n",
      "...                                       ...         ...       ...     ...   \n",
      "928831   7174686b-0ed9-4d63-91a0-dfd7c5accb4b         Jan      Huel  FEMALE   \n",
      "1395405  cdb75cc0-4559-4d30-89a1-52827f50cf45      Luther  Cummings    MALE   \n",
      "1655605  fb5767fc-251e-4ece-8f02-bdc6be854e52       Brett     Price  FEMALE   \n",
      "1115960  5f9effa8-0966-4f3c-baee-eed90d98a37e       Ervin      Rath  FEMALE   \n",
      "1261836  303e8c1e-5d02-4956-8fa8-3a09c4041c7f        Dave   Abshire    MALE   \n",
      "\n",
      "                      facilityName    scheme  medicationCode  \\\n",
      "224079                 Brixnessrna      RAMA         30023-5   \n",
      "226532   Saint Tawbol Upon Tannlox      RAMA           20730   \n",
      "302259                      Daubar      RAMA      D01AC20005   \n",
      "1085471           Stonemiddswafsea  MUTUELLE           32012   \n",
      "178981           New Spridealshill      RAMA           30433   \n",
      "...                            ...       ...             ...   \n",
      "928831                      Ritral  MUTUELLE  42142523FNL002   \n",
      "1395405                   Lasamsea      RAMA           30609   \n",
      "1655605                     Chenam  MUTUELLE  42312003EIR002   \n",
      "1115960              Battelklouspa  MUTUELLE           30433   \n",
      "1261836                Great Ponar      RAMA           20960   \n",
      "\n",
      "                                            medicationName  \\\n",
      "224079    DEBRIDEMENT AND SKIN GRAFT (>2% BUT <5% BSA) ...   \n",
      "226532    INITIATION & MANAGEMENT OF ANAESTHESIA FOR UP...   \n",
      "302259    CLOTRIMAZOLE + BETAMETHASONE + GENTAMYCIN OIN...   \n",
      "1085471   LARGE INTESTINE RESECTION (TOTAL COLECTOMY AN...   \n",
      "178981    LIVER ABCESS/CYST DRAINAGE ([MULTIPLE], OPEN ...   \n",
      "...                                                    ...   \n",
      "928831                         NEEDLES DISP ASIK 21G GREEN   \n",
      "1395405                              INGUINAL HERNIORRAPHY   \n",
      "1655605                      STERI STRIP 1546R 6MM X 100MM   \n",
      "1115960   LIVER ABCESS/CYST DRAINAGE ([MULTIPLE], OPEN ...   \n",
      "1261836   INITIATION & MANAGEMENT OF ANAESTHESIA FOR PE...   \n",
      "\n",
      "                   admissionDate            dischargeDate   diagnosisCode  \\\n",
      "224079   2023-04-21 00:37:20.837  2023-05-17 16:50:22.355  ICD-J04BA01001   \n",
      "226532    2024-03-08 19:57:36.96  2024-04-11 18:08:51.259  ICD-J06BB04001   \n",
      "302259   2024-01-08 10:56:41.156  2024-03-02 22:31:23.033  ICD-J02AB02001   \n",
      "1085471  2024-02-10 23:58:15.208  2024-03-22 06:21:16.974  ICD-J04AM02002   \n",
      "178981   2023-09-14 09:58:15.868  2023-11-19 14:43:25.694  ICD-J04AD01001   \n",
      "...                          ...                      ...             ...   \n",
      "928831   2023-05-01 14:54:34.645  2023-11-03 09:21:43.401  ICD-J04AA01001   \n",
      "1395405  2023-05-19 20:31:59.719  2023-11-26 03:25:27.455  ICD-J01XA01002   \n",
      "1655605   2023-09-13 11:07:04.94  2024-01-29 21:27:08.537  ICD-J05AF10001   \n",
      "1115960  2024-01-15 06:49:23.965  2024-02-07 20:53:32.581  ICD-J04AM02001   \n",
      "1261836  2023-04-21 07:11:56.653  2023-10-26 08:38:59.875  ICD-J06BB02001   \n",
      "\n",
      "              procedureCode  quantity  billedAmount  verifiedAmount  \\\n",
      "224079   CPT-42242000FQZ402       100       1000000          558602   \n",
      "226532   CPT-42242000FQZ392       100       1000000          722931   \n",
      "302259   CPT-42242000FQZ400       100       1000000          577934   \n",
      "1085471  CPT-42242000FQZ386       100       1000000          198101   \n",
      "178981   CPT-42242000FQZ439       100       1000000          314393   \n",
      "...                     ...       ...           ...             ...   \n",
      "928831   CPT-42242000FQZ370         1             5               0   \n",
      "1395405  CPT-42242000FQZ427         1             5               0   \n",
      "1655605  CPT-42242000FQZ401         1             5               3   \n",
      "1115960  CPT-42242000FQZ409         1             5               1   \n",
      "1261836  CPT-42242000FQZ438         1             5               4   \n",
      "\n",
      "         paidAmount  \n",
      "224079       441398  \n",
      "226532       277069  \n",
      "302259       422066  \n",
      "1085471      801899  \n",
      "178981       685607  \n",
      "...             ...  \n",
      "928831            5  \n",
      "1395405           5  \n",
      "1655605           2  \n",
      "1115960           4  \n",
      "1261836           1  \n",
      "\n",
      "[1937350 rows x 16 columns]\n"
     ]
    }
   ],
   "source": [
    "sortedBilled = df.sort_values(by='billedAmount', ascending=False) # sorting billed amount in the demography claim file\n",
    "print(sortedBilled)"
   ]
  },
  {
   "cell_type": "code",
   "execution_count": 135,
   "id": "714f358c",
   "metadata": {
    "scrolled": true
   },
   "outputs": [
    {
     "data": {
      "text/html": [
       "<div>\n",
       "<style scoped>\n",
       "    .dataframe tbody tr th:only-of-type {\n",
       "        vertical-align: middle;\n",
       "    }\n",
       "\n",
       "    .dataframe tbody tr th {\n",
       "        vertical-align: top;\n",
       "    }\n",
       "\n",
       "    .dataframe thead th {\n",
       "        text-align: right;\n",
       "    }\n",
       "</style>\n",
       "<table border=\"1\" class=\"dataframe\">\n",
       "  <thead>\n",
       "    <tr style=\"text-align: right;\">\n",
       "      <th></th>\n",
       "      <th>id</th>\n",
       "      <th>firstName</th>\n",
       "      <th>lastName</th>\n",
       "      <th>gender</th>\n",
       "      <th>facilityName</th>\n",
       "      <th>scheme</th>\n",
       "      <th>medicationCode</th>\n",
       "      <th>medicationName</th>\n",
       "      <th>admissionDate</th>\n",
       "      <th>dischargeDate</th>\n",
       "      <th>diagnosisCode</th>\n",
       "      <th>procedureCode</th>\n",
       "      <th>quantity</th>\n",
       "      <th>billedAmount</th>\n",
       "      <th>verifiedAmount</th>\n",
       "      <th>paidAmount</th>\n",
       "    </tr>\n",
       "  </thead>\n",
       "  <tbody>\n",
       "    <tr>\n",
       "      <th>224079</th>\n",
       "      <td>ed5c17d0-f865-48ce-a74a-3d183895c924</td>\n",
       "      <td>Jeffery</td>\n",
       "      <td>Lynch</td>\n",
       "      <td>FEMALE</td>\n",
       "      <td>Brixnessrna</td>\n",
       "      <td>RAMA</td>\n",
       "      <td>30023-5</td>\n",
       "      <td>DEBRIDEMENT AND SKIN GRAFT (&gt;2% BUT &lt;5% BSA) ...</td>\n",
       "      <td>2023-04-21 00:37:20.837</td>\n",
       "      <td>2023-05-17 16:50:22.355</td>\n",
       "      <td>ICD-J04BA01001</td>\n",
       "      <td>CPT-42242000FQZ402</td>\n",
       "      <td>100</td>\n",
       "      <td>1000000</td>\n",
       "      <td>558602</td>\n",
       "      <td>441398</td>\n",
       "    </tr>\n",
       "    <tr>\n",
       "      <th>226532</th>\n",
       "      <td>418a52ca-051d-40d6-ab24-ca5b734bc450</td>\n",
       "      <td>Spencer</td>\n",
       "      <td>Hansen</td>\n",
       "      <td>MALE</td>\n",
       "      <td>Saint Tawbol Upon Tannlox</td>\n",
       "      <td>RAMA</td>\n",
       "      <td>20730</td>\n",
       "      <td>INITIATION &amp; MANAGEMENT OF ANAESTHESIA FOR UP...</td>\n",
       "      <td>2024-03-08 19:57:36.96</td>\n",
       "      <td>2024-04-11 18:08:51.259</td>\n",
       "      <td>ICD-J06BB04001</td>\n",
       "      <td>CPT-42242000FQZ392</td>\n",
       "      <td>100</td>\n",
       "      <td>1000000</td>\n",
       "      <td>722931</td>\n",
       "      <td>277069</td>\n",
       "    </tr>\n",
       "    <tr>\n",
       "      <th>302259</th>\n",
       "      <td>a9b65ef8-8349-42bc-9c88-99a721940f4f</td>\n",
       "      <td>Amy</td>\n",
       "      <td>Goldner</td>\n",
       "      <td>FEMALE</td>\n",
       "      <td>Daubar</td>\n",
       "      <td>RAMA</td>\n",
       "      <td>D01AC20005</td>\n",
       "      <td>CLOTRIMAZOLE + BETAMETHASONE + GENTAMYCIN OIN...</td>\n",
       "      <td>2024-01-08 10:56:41.156</td>\n",
       "      <td>2024-03-02 22:31:23.033</td>\n",
       "      <td>ICD-J02AB02001</td>\n",
       "      <td>CPT-42242000FQZ400</td>\n",
       "      <td>100</td>\n",
       "      <td>1000000</td>\n",
       "      <td>577934</td>\n",
       "      <td>422066</td>\n",
       "    </tr>\n",
       "    <tr>\n",
       "      <th>1085471</th>\n",
       "      <td>cf389477-bafc-45ae-9b90-c46e7ada6e80</td>\n",
       "      <td>Gerald</td>\n",
       "      <td>Schuppe</td>\n",
       "      <td>MALE</td>\n",
       "      <td>Stonemiddswafsea</td>\n",
       "      <td>MUTUELLE</td>\n",
       "      <td>32012</td>\n",
       "      <td>LARGE INTESTINE RESECTION (TOTAL COLECTOMY AN...</td>\n",
       "      <td>2024-02-10 23:58:15.208</td>\n",
       "      <td>2024-03-22 06:21:16.974</td>\n",
       "      <td>ICD-J04AM02002</td>\n",
       "      <td>CPT-42242000FQZ386</td>\n",
       "      <td>100</td>\n",
       "      <td>1000000</td>\n",
       "      <td>198101</td>\n",
       "      <td>801899</td>\n",
       "    </tr>\n",
       "  </tbody>\n",
       "</table>\n",
       "</div>"
      ],
      "text/plain": [
       "                                           id firstName lastName  gender  \\\n",
       "224079   ed5c17d0-f865-48ce-a74a-3d183895c924   Jeffery    Lynch  FEMALE   \n",
       "226532   418a52ca-051d-40d6-ab24-ca5b734bc450   Spencer   Hansen    MALE   \n",
       "302259   a9b65ef8-8349-42bc-9c88-99a721940f4f       Amy  Goldner  FEMALE   \n",
       "1085471  cf389477-bafc-45ae-9b90-c46e7ada6e80    Gerald  Schuppe    MALE   \n",
       "\n",
       "                      facilityName    scheme medicationCode  \\\n",
       "224079                 Brixnessrna      RAMA        30023-5   \n",
       "226532   Saint Tawbol Upon Tannlox      RAMA          20730   \n",
       "302259                      Daubar      RAMA     D01AC20005   \n",
       "1085471           Stonemiddswafsea  MUTUELLE          32012   \n",
       "\n",
       "                                            medicationName  \\\n",
       "224079    DEBRIDEMENT AND SKIN GRAFT (>2% BUT <5% BSA) ...   \n",
       "226532    INITIATION & MANAGEMENT OF ANAESTHESIA FOR UP...   \n",
       "302259    CLOTRIMAZOLE + BETAMETHASONE + GENTAMYCIN OIN...   \n",
       "1085471   LARGE INTESTINE RESECTION (TOTAL COLECTOMY AN...   \n",
       "\n",
       "                   admissionDate            dischargeDate   diagnosisCode  \\\n",
       "224079   2023-04-21 00:37:20.837  2023-05-17 16:50:22.355  ICD-J04BA01001   \n",
       "226532    2024-03-08 19:57:36.96  2024-04-11 18:08:51.259  ICD-J06BB04001   \n",
       "302259   2024-01-08 10:56:41.156  2024-03-02 22:31:23.033  ICD-J02AB02001   \n",
       "1085471  2024-02-10 23:58:15.208  2024-03-22 06:21:16.974  ICD-J04AM02002   \n",
       "\n",
       "              procedureCode  quantity  billedAmount  verifiedAmount  \\\n",
       "224079   CPT-42242000FQZ402       100       1000000          558602   \n",
       "226532   CPT-42242000FQZ392       100       1000000          722931   \n",
       "302259   CPT-42242000FQZ400       100       1000000          577934   \n",
       "1085471  CPT-42242000FQZ386       100       1000000          198101   \n",
       "\n",
       "         paidAmount  \n",
       "224079       441398  \n",
       "226532       277069  \n",
       "302259       422066  \n",
       "1085471      801899  "
      ]
     },
     "execution_count": 135,
     "metadata": {},
     "output_type": "execute_result"
    }
   ],
   "source": [
    "sortedBilled.head(4) # top four of the highest billed amount"
   ]
  },
  {
   "cell_type": "markdown",
   "id": "44871af8",
   "metadata": {},
   "source": [
    "### Dates"
   ]
  },
  {
   "cell_type": "markdown",
   "id": "7c7b4bc2",
   "metadata": {},
   "source": [
    "Extracting dates in format yyy-mm-dd from admissionDate and dischargeDate fields(columns) and form a new columns named new_admissionDate and new_dischargeDate"
   ]
  },
  {
   "cell_type": "code",
   "execution_count": 11,
   "id": "1c073db5",
   "metadata": {},
   "outputs": [],
   "source": [
    "df['new_admissionDate']= df['admissionDate'].str[:11] #first 11 characters of values of admissionDate\n",
    "df['new_dischargeDate']= df['dischargeDate'].str[:11] #first 11 characters of values of dischargeDate"
   ]
  },
  {
   "cell_type": "code",
   "execution_count": 12,
   "id": "6c3e3978",
   "metadata": {
    "scrolled": true
   },
   "outputs": [
    {
     "data": {
      "text/html": [
       "<div>\n",
       "<style scoped>\n",
       "    .dataframe tbody tr th:only-of-type {\n",
       "        vertical-align: middle;\n",
       "    }\n",
       "\n",
       "    .dataframe tbody tr th {\n",
       "        vertical-align: top;\n",
       "    }\n",
       "\n",
       "    .dataframe thead th {\n",
       "        text-align: right;\n",
       "    }\n",
       "</style>\n",
       "<table border=\"1\" class=\"dataframe\">\n",
       "  <thead>\n",
       "    <tr style=\"text-align: right;\">\n",
       "      <th></th>\n",
       "      <th>id</th>\n",
       "      <th>firstName</th>\n",
       "      <th>lastName</th>\n",
       "      <th>gender</th>\n",
       "      <th>facilityName</th>\n",
       "      <th>scheme</th>\n",
       "      <th>medicationCode</th>\n",
       "      <th>medicationName</th>\n",
       "      <th>admissionDate</th>\n",
       "      <th>dischargeDate</th>\n",
       "      <th>diagnosisCode</th>\n",
       "      <th>procedureCode</th>\n",
       "      <th>quantity</th>\n",
       "      <th>billedAmount</th>\n",
       "      <th>verifiedAmount</th>\n",
       "      <th>paidAmount</th>\n",
       "      <th>new_admissionDate</th>\n",
       "      <th>new_dischargeDate</th>\n",
       "    </tr>\n",
       "  </thead>\n",
       "  <tbody>\n",
       "    <tr>\n",
       "      <th>0</th>\n",
       "      <td>f70c7cea-d533-48ff-999e-d8ae2dfbdb7d</td>\n",
       "      <td>Alberta</td>\n",
       "      <td>Gerhold</td>\n",
       "      <td>FEMALE</td>\n",
       "      <td>Nkridgegridgewood</td>\n",
       "      <td>RAMA</td>\n",
       "      <td>35641</td>\n",
       "      <td>OVARIECTOMIE</td>\n",
       "      <td>2024-02-12 04:56:20.699</td>\n",
       "      <td>2024-03-23 09:19:21.894</td>\n",
       "      <td>ICD-J05AE10001</td>\n",
       "      <td>CPT-42242000FQZ425</td>\n",
       "      <td>82</td>\n",
       "      <td>632220</td>\n",
       "      <td>453929</td>\n",
       "      <td>178291</td>\n",
       "      <td>2024-02-12</td>\n",
       "      <td>2024-03-23</td>\n",
       "    </tr>\n",
       "    <tr>\n",
       "      <th>1</th>\n",
       "      <td>51b5e30c-cf7c-463b-874c-35b935257049</td>\n",
       "      <td>Dorothy</td>\n",
       "      <td>Rice</td>\n",
       "      <td>MALE</td>\n",
       "      <td>Forttown</td>\n",
       "      <td>MUTUELLE</td>\n",
       "      <td>30631</td>\n",
       "      <td>HYDROCELECTOMY</td>\n",
       "      <td>2023-11-10 07:00:17.013</td>\n",
       "      <td>2024-02-20 01:02:53.296</td>\n",
       "      <td>ICD-J04AB02002</td>\n",
       "      <td>CPT-42242000FQZ400</td>\n",
       "      <td>60</td>\n",
       "      <td>590700</td>\n",
       "      <td>528066</td>\n",
       "      <td>62634</td>\n",
       "      <td>2023-11-10</td>\n",
       "      <td>2024-02-20</td>\n",
       "    </tr>\n",
       "    <tr>\n",
       "      <th>2</th>\n",
       "      <td>5819dcde-d9a9-4bba-9ce5-6eb92c0b9194</td>\n",
       "      <td>Brandy</td>\n",
       "      <td>Pollich</td>\n",
       "      <td>FEMALE</td>\n",
       "      <td>Port Birmills</td>\n",
       "      <td>RAMA</td>\n",
       "      <td>35641</td>\n",
       "      <td>OVARIECTOMIE</td>\n",
       "      <td>2023-07-16 00:22:32.556</td>\n",
       "      <td>2024-03-30 05:26:46.263</td>\n",
       "      <td>ICD-J04AM02002</td>\n",
       "      <td>CPT-42242000FQZ351</td>\n",
       "      <td>34</td>\n",
       "      <td>100980</td>\n",
       "      <td>73711</td>\n",
       "      <td>27269</td>\n",
       "      <td>2023-07-16</td>\n",
       "      <td>2024-03-30</td>\n",
       "    </tr>\n",
       "  </tbody>\n",
       "</table>\n",
       "</div>"
      ],
      "text/plain": [
       "                                     id firstName lastName  gender  \\\n",
       "0  f70c7cea-d533-48ff-999e-d8ae2dfbdb7d   Alberta  Gerhold  FEMALE   \n",
       "1  51b5e30c-cf7c-463b-874c-35b935257049   Dorothy     Rice    MALE   \n",
       "2  5819dcde-d9a9-4bba-9ce5-6eb92c0b9194    Brandy  Pollich  FEMALE   \n",
       "\n",
       "        facilityName    scheme medicationCode   medicationName  \\\n",
       "0  Nkridgegridgewood      RAMA          35641     OVARIECTOMIE   \n",
       "1           Forttown  MUTUELLE          30631   HYDROCELECTOMY   \n",
       "2      Port Birmills      RAMA          35641     OVARIECTOMIE   \n",
       "\n",
       "             admissionDate            dischargeDate   diagnosisCode  \\\n",
       "0  2024-02-12 04:56:20.699  2024-03-23 09:19:21.894  ICD-J05AE10001   \n",
       "1  2023-11-10 07:00:17.013  2024-02-20 01:02:53.296  ICD-J04AB02002   \n",
       "2  2023-07-16 00:22:32.556  2024-03-30 05:26:46.263  ICD-J04AM02002   \n",
       "\n",
       "        procedureCode  quantity  billedAmount  verifiedAmount  paidAmount  \\\n",
       "0  CPT-42242000FQZ425        82        632220          453929      178291   \n",
       "1  CPT-42242000FQZ400        60        590700          528066       62634   \n",
       "2  CPT-42242000FQZ351        34        100980           73711       27269   \n",
       "\n",
       "  new_admissionDate new_dischargeDate  \n",
       "0       2024-02-12        2024-03-23   \n",
       "1       2023-11-10        2024-02-20   \n",
       "2       2023-07-16        2024-03-30   "
      ]
     },
     "execution_count": 12,
     "metadata": {},
     "output_type": "execute_result"
    }
   ],
   "source": [
    "df.head(3)"
   ]
  },
  {
   "cell_type": "code",
   "execution_count": 13,
   "id": "465c3808",
   "metadata": {},
   "outputs": [],
   "source": [
    "#Convert the date columns to datetime objects\n",
    "df['new_admissionDate']= pd.to_datetime(df['new_admissionDate'])\n",
    "df['new_dischargeDate']= pd.to_datetime(df['new_dischargeDate'])\n",
    "\n",
    "#Calculate the difference between the dates\n",
    "\n",
    "df['Datedifference'] = df['new_dischargeDate']- df['new_admissionDate']"
   ]
  },
  {
   "cell_type": "code",
   "execution_count": 14,
   "id": "5cba7f27",
   "metadata": {
    "scrolled": true
   },
   "outputs": [
    {
     "data": {
      "text/html": [
       "<div>\n",
       "<style scoped>\n",
       "    .dataframe tbody tr th:only-of-type {\n",
       "        vertical-align: middle;\n",
       "    }\n",
       "\n",
       "    .dataframe tbody tr th {\n",
       "        vertical-align: top;\n",
       "    }\n",
       "\n",
       "    .dataframe thead th {\n",
       "        text-align: right;\n",
       "    }\n",
       "</style>\n",
       "<table border=\"1\" class=\"dataframe\">\n",
       "  <thead>\n",
       "    <tr style=\"text-align: right;\">\n",
       "      <th></th>\n",
       "      <th>id</th>\n",
       "      <th>firstName</th>\n",
       "      <th>lastName</th>\n",
       "      <th>gender</th>\n",
       "      <th>facilityName</th>\n",
       "      <th>scheme</th>\n",
       "      <th>medicationCode</th>\n",
       "      <th>medicationName</th>\n",
       "      <th>admissionDate</th>\n",
       "      <th>dischargeDate</th>\n",
       "      <th>diagnosisCode</th>\n",
       "      <th>procedureCode</th>\n",
       "      <th>quantity</th>\n",
       "      <th>billedAmount</th>\n",
       "      <th>verifiedAmount</th>\n",
       "      <th>paidAmount</th>\n",
       "      <th>new_admissionDate</th>\n",
       "      <th>new_dischargeDate</th>\n",
       "      <th>Datedifference</th>\n",
       "    </tr>\n",
       "  </thead>\n",
       "  <tbody>\n",
       "    <tr>\n",
       "      <th>0</th>\n",
       "      <td>f70c7cea-d533-48ff-999e-d8ae2dfbdb7d</td>\n",
       "      <td>Alberta</td>\n",
       "      <td>Gerhold</td>\n",
       "      <td>FEMALE</td>\n",
       "      <td>Nkridgegridgewood</td>\n",
       "      <td>RAMA</td>\n",
       "      <td>35641</td>\n",
       "      <td>OVARIECTOMIE</td>\n",
       "      <td>2024-02-12 04:56:20.699</td>\n",
       "      <td>2024-03-23 09:19:21.894</td>\n",
       "      <td>ICD-J05AE10001</td>\n",
       "      <td>CPT-42242000FQZ425</td>\n",
       "      <td>82</td>\n",
       "      <td>632220</td>\n",
       "      <td>453929</td>\n",
       "      <td>178291</td>\n",
       "      <td>2024-02-12</td>\n",
       "      <td>2024-03-23</td>\n",
       "      <td>40 days</td>\n",
       "    </tr>\n",
       "    <tr>\n",
       "      <th>1</th>\n",
       "      <td>51b5e30c-cf7c-463b-874c-35b935257049</td>\n",
       "      <td>Dorothy</td>\n",
       "      <td>Rice</td>\n",
       "      <td>MALE</td>\n",
       "      <td>Forttown</td>\n",
       "      <td>MUTUELLE</td>\n",
       "      <td>30631</td>\n",
       "      <td>HYDROCELECTOMY</td>\n",
       "      <td>2023-11-10 07:00:17.013</td>\n",
       "      <td>2024-02-20 01:02:53.296</td>\n",
       "      <td>ICD-J04AB02002</td>\n",
       "      <td>CPT-42242000FQZ400</td>\n",
       "      <td>60</td>\n",
       "      <td>590700</td>\n",
       "      <td>528066</td>\n",
       "      <td>62634</td>\n",
       "      <td>2023-11-10</td>\n",
       "      <td>2024-02-20</td>\n",
       "      <td>102 days</td>\n",
       "    </tr>\n",
       "    <tr>\n",
       "      <th>2</th>\n",
       "      <td>5819dcde-d9a9-4bba-9ce5-6eb92c0b9194</td>\n",
       "      <td>Brandy</td>\n",
       "      <td>Pollich</td>\n",
       "      <td>FEMALE</td>\n",
       "      <td>Port Birmills</td>\n",
       "      <td>RAMA</td>\n",
       "      <td>35641</td>\n",
       "      <td>OVARIECTOMIE</td>\n",
       "      <td>2023-07-16 00:22:32.556</td>\n",
       "      <td>2024-03-30 05:26:46.263</td>\n",
       "      <td>ICD-J04AM02002</td>\n",
       "      <td>CPT-42242000FQZ351</td>\n",
       "      <td>34</td>\n",
       "      <td>100980</td>\n",
       "      <td>73711</td>\n",
       "      <td>27269</td>\n",
       "      <td>2023-07-16</td>\n",
       "      <td>2024-03-30</td>\n",
       "      <td>258 days</td>\n",
       "    </tr>\n",
       "  </tbody>\n",
       "</table>\n",
       "</div>"
      ],
      "text/plain": [
       "                                     id firstName lastName  gender  \\\n",
       "0  f70c7cea-d533-48ff-999e-d8ae2dfbdb7d   Alberta  Gerhold  FEMALE   \n",
       "1  51b5e30c-cf7c-463b-874c-35b935257049   Dorothy     Rice    MALE   \n",
       "2  5819dcde-d9a9-4bba-9ce5-6eb92c0b9194    Brandy  Pollich  FEMALE   \n",
       "\n",
       "        facilityName    scheme medicationCode   medicationName  \\\n",
       "0  Nkridgegridgewood      RAMA          35641     OVARIECTOMIE   \n",
       "1           Forttown  MUTUELLE          30631   HYDROCELECTOMY   \n",
       "2      Port Birmills      RAMA          35641     OVARIECTOMIE   \n",
       "\n",
       "             admissionDate            dischargeDate   diagnosisCode  \\\n",
       "0  2024-02-12 04:56:20.699  2024-03-23 09:19:21.894  ICD-J05AE10001   \n",
       "1  2023-11-10 07:00:17.013  2024-02-20 01:02:53.296  ICD-J04AB02002   \n",
       "2  2023-07-16 00:22:32.556  2024-03-30 05:26:46.263  ICD-J04AM02002   \n",
       "\n",
       "        procedureCode  quantity  billedAmount  verifiedAmount  paidAmount  \\\n",
       "0  CPT-42242000FQZ425        82        632220          453929      178291   \n",
       "1  CPT-42242000FQZ400        60        590700          528066       62634   \n",
       "2  CPT-42242000FQZ351        34        100980           73711       27269   \n",
       "\n",
       "  new_admissionDate new_dischargeDate Datedifference  \n",
       "0        2024-02-12        2024-03-23        40 days  \n",
       "1        2023-11-10        2024-02-20       102 days  \n",
       "2        2023-07-16        2024-03-30       258 days  "
      ]
     },
     "execution_count": 14,
     "metadata": {},
     "output_type": "execute_result"
    }
   ],
   "source": [
    "df.head(3) #display top three of new demography claim dataset"
   ]
  },
  {
   "cell_type": "markdown",
   "id": "d7fa2f9c",
   "metadata": {},
   "source": [
    "Days spent in health facilities per scheme"
   ]
  },
  {
   "cell_type": "code",
   "execution_count": 11,
   "id": "3bda58c2",
   "metadata": {},
   "outputs": [
    {
     "data": {
      "text/plain": [
       "scheme\n",
       "MUTUELLE   387 days\n",
       "RAMA       387 days\n",
       "Name: Datedifference, dtype: timedelta64[ns]"
      ]
     },
     "execution_count": 11,
     "metadata": {},
     "output_type": "execute_result"
    }
   ],
   "source": [
    "days_df = df.groupby('scheme')['Datedifference'].max()\n",
    "# the max of days spent for each scheme\n",
    "days_df "
   ]
  },
  {
   "cell_type": "markdown",
   "id": "3ecca68d",
   "metadata": {},
   "source": [
    "Facilities with medicationName which takes more time in admission"
   ]
  },
  {
   "cell_type": "code",
   "execution_count": 16,
   "id": "4a5e76d3",
   "metadata": {},
   "outputs": [],
   "source": [
    "daysi_df = df.groupby('facilityName')['id'].count() #number of patiences admitted per facilty name"
   ]
  },
  {
   "cell_type": "code",
   "execution_count": 17,
   "id": "be351689",
   "metadata": {},
   "outputs": [
    {
     "data": {
      "text/plain": [
       "facilityName\n",
       "Anglassron       21450\n",
       "Bamphills        19050\n",
       "Battelklouspa    21200\n",
       "Name: id, dtype: int64"
      ]
     },
     "execution_count": 17,
     "metadata": {},
     "output_type": "execute_result"
    }
   ],
   "source": [
    "daysi_df.head(3) #visualize only three of them"
   ]
  },
  {
   "cell_type": "code",
   "execution_count": 181,
   "id": "9e3a5e0c",
   "metadata": {
    "scrolled": true
   },
   "outputs": [
    {
     "data": {
      "text/html": [
       "<div>\n",
       "<style scoped>\n",
       "    .dataframe tbody tr th:only-of-type {\n",
       "        vertical-align: middle;\n",
       "    }\n",
       "\n",
       "    .dataframe tbody tr th {\n",
       "        vertical-align: top;\n",
       "    }\n",
       "\n",
       "    .dataframe thead th {\n",
       "        text-align: right;\n",
       "    }\n",
       "</style>\n",
       "<table border=\"1\" class=\"dataframe\">\n",
       "  <thead>\n",
       "    <tr style=\"text-align: right;\">\n",
       "      <th></th>\n",
       "      <th>paidAmount</th>\n",
       "      <th>billedAmount</th>\n",
       "      <th>verifiedAmount</th>\n",
       "      <th>Datedifference</th>\n",
       "    </tr>\n",
       "    <tr>\n",
       "      <th>facilityName</th>\n",
       "      <th></th>\n",
       "      <th></th>\n",
       "      <th></th>\n",
       "      <th></th>\n",
       "    </tr>\n",
       "  </thead>\n",
       "  <tbody>\n",
       "    <tr>\n",
       "      <th>Anglassron</th>\n",
       "      <td>2709566138</td>\n",
       "      <td>5417175125</td>\n",
       "      <td>2707608987</td>\n",
       "      <td>67085 days 04:14:22.904483840</td>\n",
       "    </tr>\n",
       "    <tr>\n",
       "      <th>Bamphills</th>\n",
       "      <td>2448134844</td>\n",
       "      <td>4868185820</td>\n",
       "      <td>2420050976</td>\n",
       "      <td>22782 days 03:48:56.614035456</td>\n",
       "    </tr>\n",
       "    <tr>\n",
       "      <th>Battelklouspa</th>\n",
       "      <td>2638862333</td>\n",
       "      <td>5293778955</td>\n",
       "      <td>2654916622</td>\n",
       "      <td>51821 days 04:14:22.904483840</td>\n",
       "    </tr>\n",
       "  </tbody>\n",
       "</table>\n",
       "</div>"
      ],
      "text/plain": [
       "               paidAmount  billedAmount  verifiedAmount  \\\n",
       "facilityName                                              \n",
       "Anglassron     2709566138    5417175125      2707608987   \n",
       "Bamphills      2448134844    4868185820      2420050976   \n",
       "Battelklouspa  2638862333    5293778955      2654916622   \n",
       "\n",
       "                             Datedifference  \n",
       "facilityName                                 \n",
       "Anglassron    67085 days 04:14:22.904483840  \n",
       "Bamphills     22782 days 03:48:56.614035456  \n",
       "Battelklouspa 51821 days 04:14:22.904483840  "
      ]
     },
     "execution_count": 181,
     "metadata": {},
     "output_type": "execute_result"
    }
   ],
   "source": [
    "Days_facility.head(3)"
   ]
  },
  {
   "cell_type": "markdown",
   "id": "b2bdcab4",
   "metadata": {},
   "source": [
    "## SCHEMES"
   ]
  },
  {
   "cell_type": "code",
   "execution_count": 18,
   "id": "66d1910d",
   "metadata": {
    "scrolled": true
   },
   "outputs": [
    {
     "data": {
      "text/html": [
       "<div>\n",
       "<style scoped>\n",
       "    .dataframe tbody tr th:only-of-type {\n",
       "        vertical-align: middle;\n",
       "    }\n",
       "\n",
       "    .dataframe tbody tr th {\n",
       "        vertical-align: top;\n",
       "    }\n",
       "\n",
       "    .dataframe thead th {\n",
       "        text-align: right;\n",
       "    }\n",
       "</style>\n",
       "<table border=\"1\" class=\"dataframe\">\n",
       "  <thead>\n",
       "    <tr style=\"text-align: right;\">\n",
       "      <th></th>\n",
       "      <th>count</th>\n",
       "      <th>mean</th>\n",
       "      <th>min</th>\n",
       "      <th>25%</th>\n",
       "      <th>50%</th>\n",
       "      <th>75%</th>\n",
       "      <th>max</th>\n",
       "      <th>std</th>\n",
       "    </tr>\n",
       "  </thead>\n",
       "  <tbody>\n",
       "    <tr>\n",
       "      <th>quantity</th>\n",
       "      <td>968311.0</td>\n",
       "      <td>50.508517</td>\n",
       "      <td>1.0</td>\n",
       "      <td>25.0</td>\n",
       "      <td>51.0</td>\n",
       "      <td>76.0</td>\n",
       "      <td>100.0</td>\n",
       "      <td>28.871529</td>\n",
       "    </tr>\n",
       "    <tr>\n",
       "      <th>billedAmount</th>\n",
       "      <td>968311.0</td>\n",
       "      <td>252293.863253</td>\n",
       "      <td>5.0</td>\n",
       "      <td>69300.0</td>\n",
       "      <td>188760.0</td>\n",
       "      <td>385320.0</td>\n",
       "      <td>1000000.0</td>\n",
       "      <td>221300.450912</td>\n",
       "    </tr>\n",
       "    <tr>\n",
       "      <th>verifiedAmount</th>\n",
       "      <td>968311.0</td>\n",
       "      <td>125960.061934</td>\n",
       "      <td>0.0</td>\n",
       "      <td>20398.0</td>\n",
       "      <td>69700.0</td>\n",
       "      <td>179055.0</td>\n",
       "      <td>987357.0</td>\n",
       "      <td>146891.355368</td>\n",
       "    </tr>\n",
       "    <tr>\n",
       "      <th>paidAmount</th>\n",
       "      <td>968311.0</td>\n",
       "      <td>126333.801319</td>\n",
       "      <td>1.0</td>\n",
       "      <td>20420.0</td>\n",
       "      <td>69953.0</td>\n",
       "      <td>179838.5</td>\n",
       "      <td>985496.0</td>\n",
       "      <td>147301.982984</td>\n",
       "    </tr>\n",
       "    <tr>\n",
       "      <th>new_admissionDate</th>\n",
       "      <td>968311</td>\n",
       "      <td>2023-09-30 14:48:03.469464832</td>\n",
       "      <td>2023-04-01 00:00:00</td>\n",
       "      <td>2023-07-01 00:00:00</td>\n",
       "      <td>2023-10-01 00:00:00</td>\n",
       "      <td>2023-12-31 00:00:00</td>\n",
       "      <td>2024-04-01 00:00:00</td>\n",
       "      <td>NaN</td>\n",
       "    </tr>\n",
       "    <tr>\n",
       "      <th>new_dischargeDate</th>\n",
       "      <td>968311</td>\n",
       "      <td>2024-01-11 00:57:07.140247552</td>\n",
       "      <td>2023-04-02 00:00:00</td>\n",
       "      <td>2023-11-21 00:00:00</td>\n",
       "      <td>2024-02-03 00:00:00</td>\n",
       "      <td>2024-03-21 00:00:00</td>\n",
       "      <td>2024-04-23 00:00:00</td>\n",
       "      <td>NaN</td>\n",
       "    </tr>\n",
       "    <tr>\n",
       "      <th>Datedifference</th>\n",
       "      <td>968311</td>\n",
       "      <td>102 days 10:09:03.670783459</td>\n",
       "      <td>0 days 00:00:00</td>\n",
       "      <td>33 days 00:00:00</td>\n",
       "      <td>79 days 00:00:00</td>\n",
       "      <td>154 days 00:00:00</td>\n",
       "      <td>387 days 00:00:00</td>\n",
       "      <td>84 days 23:35:22.455303270</td>\n",
       "    </tr>\n",
       "  </tbody>\n",
       "</table>\n",
       "</div>"
      ],
      "text/plain": [
       "                      count                           mean  \\\n",
       "quantity           968311.0                      50.508517   \n",
       "billedAmount       968311.0                  252293.863253   \n",
       "verifiedAmount     968311.0                  125960.061934   \n",
       "paidAmount         968311.0                  126333.801319   \n",
       "new_admissionDate    968311  2023-09-30 14:48:03.469464832   \n",
       "new_dischargeDate    968311  2024-01-11 00:57:07.140247552   \n",
       "Datedifference       968311    102 days 10:09:03.670783459   \n",
       "\n",
       "                                   min                  25%  \\\n",
       "quantity                           1.0                 25.0   \n",
       "billedAmount                       5.0              69300.0   \n",
       "verifiedAmount                     0.0              20398.0   \n",
       "paidAmount                         1.0              20420.0   \n",
       "new_admissionDate  2023-04-01 00:00:00  2023-07-01 00:00:00   \n",
       "new_dischargeDate  2023-04-02 00:00:00  2023-11-21 00:00:00   \n",
       "Datedifference         0 days 00:00:00     33 days 00:00:00   \n",
       "\n",
       "                                   50%                  75%  \\\n",
       "quantity                          51.0                 76.0   \n",
       "billedAmount                  188760.0             385320.0   \n",
       "verifiedAmount                 69700.0             179055.0   \n",
       "paidAmount                     69953.0             179838.5   \n",
       "new_admissionDate  2023-10-01 00:00:00  2023-12-31 00:00:00   \n",
       "new_dischargeDate  2024-02-03 00:00:00  2024-03-21 00:00:00   \n",
       "Datedifference        79 days 00:00:00    154 days 00:00:00   \n",
       "\n",
       "                                   max                         std  \n",
       "quantity                         100.0                   28.871529  \n",
       "billedAmount                 1000000.0               221300.450912  \n",
       "verifiedAmount                987357.0               146891.355368  \n",
       "paidAmount                    985496.0               147301.982984  \n",
       "new_admissionDate  2024-04-01 00:00:00                         NaN  \n",
       "new_dischargeDate  2024-04-23 00:00:00                         NaN  \n",
       "Datedifference       387 days 00:00:00  84 days 23:35:22.455303270  "
      ]
     },
     "execution_count": 18,
     "metadata": {},
     "output_type": "execute_result"
    }
   ],
   "source": [
    "# Create new DataFrame based on a condition\n",
    "RAMA_insur_demogr = df[df['scheme'] == 'RAMA'] # number of people using RAMA in demography claims\n",
    "MUTUELLE_insur_demogr = df[df['scheme'] == 'MUTUELLE'] # number of people using MUTUELLE in demography claims\n",
    "\n",
    "RAMA_insur_claims = df_1[df_1['scheme'] == 'RAMA'] # number of people using RAMA in claims file\n",
    "MUTUELLE_insur_claims = df_1[df_1['scheme'] == 'MUTUELLE'] #number of people using MUTUELLE in claims file\n",
    "\n",
    "# Displaying the newly created DataFrame\n",
    "RAMA_insur_demogr.describe().T"
   ]
  },
  {
   "cell_type": "markdown",
   "id": "c759921a",
   "metadata": {},
   "source": [
    "Now lets evaluate the number of people using each type of scheme (RAMA or MUTUELLE) in each and every csv file"
   ]
  },
  {
   "cell_type": "code",
   "execution_count": 18,
   "id": "db0c5227",
   "metadata": {},
   "outputs": [
    {
     "name": "stdout",
     "output_type": "stream",
     "text": [
      "number of people using RAMA in demography claims file is:  968311\n",
      "number of people using MUTUELLE in demography claims file is:  969039\n",
      "number of people using RAMA in claims file is:  968357\n",
      "number of people using MUTUELLE in claims file is:  969079\n"
     ]
    }
   ],
   "source": [
    "RAMA = len(RAMA_insur_demogr) # number of people using RAMA in demography claims\n",
    "MUTUELLE = MUTUELLE_insur_demogr.shape[0] # number of people using MUTUELLE in demography claims\n",
    "\n",
    "RAMA_1 =RAMA_insur_claims.shape[0]\n",
    "MUTUELLE_1=len(MUTUELLE_insur_claims)\n",
    "\n",
    "print(\"number of people using RAMA in demography claims file is: \", RAMA)\n",
    "print(\"number of people using MUTUELLE in demography claims file is: \", MUTUELLE)\n",
    "\n",
    "print(\"number of people using RAMA in claims file is: \", RAMA_1)\n",
    "print(\"number of people using MUTUELLE in claims file is: \", MUTUELLE_1)"
   ]
  },
  {
   "cell_type": "markdown",
   "id": "7a45f02f",
   "metadata": {},
   "source": [
    "Now let's make totals to see people using RAMA and MUTUELLE separately"
   ]
  },
  {
   "cell_type": "code",
   "execution_count": 19,
   "id": "b67551df",
   "metadata": {},
   "outputs": [
    {
     "name": "stdout",
     "output_type": "stream",
     "text": [
      "Total number of people using RAMA scheme is:  1936668\n",
      "Total number of people using MUTUELLE scheme is:  1938118\n",
      "MUTUELLE users are 1450 more than RAMA users\n"
     ]
    }
   ],
   "source": [
    "RAMAA = RAMA + RAMA_1 #adding number of people using RAMA in both files\n",
    "MUTUELLEE = MUTUELLE + MUTUELLE_1\n",
    "diff = MUTUELLEE -RAMAA\n",
    "\n",
    "print(\"Total number of people using RAMA scheme is: \", RAMAA)\n",
    "print(\"Total number of people using MUTUELLE scheme is: \", MUTUELLEE)\n",
    "print(f\"MUTUELLE users are {diff} more than RAMA users\")"
   ]
  },
  {
   "cell_type": "markdown",
   "id": "9d97e5db",
   "metadata": {},
   "source": [
    "Now, lets investigate if there are 'id' that appear in both df(demographic claim) and df_1(claim)"
   ]
  },
  {
   "cell_type": "code",
   "execution_count": 20,
   "id": "ffabb74d",
   "metadata": {},
   "outputs": [
    {
     "name": "stdout",
     "output_type": "stream",
     "text": [
      "There are 0 ids in common. This means we can combine them\n"
     ]
    }
   ],
   "source": [
    "common_ids= set(df['id']).intersection(df_1['id'])\n",
    "numb= len(common_ids)\n",
    "print(f'There are {numb} ids in common. This means we can combine them')"
   ]
  },
  {
   "cell_type": "markdown",
   "id": "461153a2",
   "metadata": {},
   "source": [
    "## MEDICATION NAMES"
   ]
  },
  {
   "cell_type": "markdown",
   "id": "24694ddf",
   "metadata": {},
   "source": [
    "Listing all medicationNames in demography claim"
   ]
  },
  {
   "cell_type": "code",
   "execution_count": 20,
   "id": "226b8df7",
   "metadata": {},
   "outputs": [
    {
     "data": {
      "text/plain": [
       "array([' OVARIECTOMIE', ' HYDROCELECTOMY', ' RADICAL HYSTERECTOMY',\n",
       "       ' SALPINGECTOMY',\n",
       "       ' ELBOW, TREATMENT OF DISLOCATION OF, BY CLOSED REDUCTION',\n",
       "       ' LARGE INTESTINE RESECTION (TOTAL COLECTOMY AND ILEORECTAL ANASTOMOSIS)',\n",
       "       ' EPIGASTRIC HERNIA REPAIR (EXCLUDING RECURRENT INGUINAL OR FEMORAL HERNIA)',\n",
       "       ' NEEDLES DISP ASIK 21G GREEN', ' CYTOTEC 200 ΜG TABLET',\n",
       "       ' SPINA BIFIDA OCCULTA REPAIR', ' HEMORRHOIDECTOMY',\n",
       "       ' INITIATION & MANAGEMENT OF ANAESTHESIA FOR PERINEUM-FOR VAGINAL PROCEDURES IN THE MANAGEMENT OF POST PARTUM HAEMORRHAGE [BLOOD LOSS > 500MLS] [7 BASIC UNITS]',\n",
       "       ' TIMOLOL 0.5% EYE DROPS  5ML', ' HEALING ABUTMENT', ' MYOMECTOMY',\n",
       "       ' ADENOSINE 3MG /ML INJECTION 2ML',\n",
       "       ' GLIMEPIRIDE 3MG TABLET   B/30', ' SCROTUM EXCISION',\n",
       "       ' DICLOFENAC 75MG/ML INJECTION',\n",
       "       ' DRAINAGE OF PLEURAL CAVITY NEC, PNEUMOTHORAX DRAINAGE WITH NEEDLE',\n",
       "       ' PULP CAPPING INDIRECT',\n",
       "       ' ERYTHROMYCIN 125MG/5ML POWDER FOR ORAL SUSPENSION 60ML',\n",
       "       ' INGUINAL HERNIORRAPHY', ' FACE MASK SIZE 3', ' SPLENECTOMY',\n",
       "       ' FASCIOTOMY (MUSCLE, EXCISION OF [LIMITED])',\n",
       "       ' ABCES, DEEP CYST DRAINAGE AND OR CYST REMOVAL', ' THYROIDECTOMY',\n",
       "       ' VICRYL 1 TAPERPOINT 75CM 31MM 1/2C',\n",
       "       ' SPINA BIFIDA OPERTA REPAIR', ' GAUZE BANDAGE 7,5CM X 4.5M',\n",
       "       ' FACE MASK DISPOSABLE', ' BENZYL BENZOATE12,5%METHANOL  100ML',\n",
       "       ' LARGE INTESTINE RESECTION (SUBTOTAL COLECTOMY WITH ANASTOMOSIS)',\n",
       "       ' NA+ SODIUM,SODIUM [NA+] IN SERUM',\n",
       "       ' CLOTRIMAZOLE + BETAMETHASONE + GENTAMYCIN OINTMENT  15G',\n",
       "       ' DICLOFENAC 25MG TABLET', ' METOCLOPRAMIDE 10MG TABLET',\n",
       "       ' DEBRIDEMENT AND SKIN GRAFT (>2% BUT <5% BSA) BY PLASTIC SURGEON OR EQUIVALENT',\n",
       "       ' ATROPINE  0.1%  EYE DROPS 10ML',\n",
       "       ' DETORSION FOR TORSION OF THE TESTIS + CONTROLATERAL TESTIS FIXATION',\n",
       "       ' ANAL FISTULA EXCISION', ' CYSTECTOMY RADICAL',\n",
       "       ' ADHESIVE TAPE 5 CM', ' FOLIC ACID 5MG TABLET',\n",
       "       ' CIPROFLOXACIN 500MG TABLET',\n",
       "       ' INITIATION & MANAGEMENT OF ANAESTHESIA FOR PERINEUM-FOR PROCEDURES ON EXTERNAL GENITALIA[4 BASIC UNITS]',\n",
       "       ' X-RAY OF THE LUMBAR SPINE OBLIQUE [RIGHT & LEFT]',\n",
       "       ' CORE NEEDLE BIOPSY OF A BREAST NODULE ON LOCAL ANAESTHSIA',\n",
       "       ' VITAMIN B 1 100MG/2ML SOLUTION FOR INJECTION',\n",
       "       ' HEMORRHOIDECTOMY (INVOLVING THIRD OR FOURTH DEGREE HAEMORRHOIDS)',\n",
       "       ' APPENDICECTOMY (PERSON 10 YEARS OF AGE OR OVER)',\n",
       "       ' FACE MASK SIZE 2', ' OXYGEN CANNULA W/TUBING ADULT',\n",
       "       ' LARGE INTESTINE RESECTION (WITH ANASTOMOSIS)',\n",
       "       ' LAPAROSCOPY DIAGNOSTIC/10 YEARS OF AGE OR OVER',\n",
       "       ' LAPAROSCOPY DIAGNOSTIC/UNDER 10 YEARS OF AGE',\n",
       "       ' FACE MASK SIZE 1', ' OMEPRAZOLE 20MG  CAPSULE',\n",
       "       ' COTRIMOXAZOLE 480MG TABLET',\n",
       "       ' APPENDECTOMY UNDER 10 YEARS OF AGE',\n",
       "       ' RECTOPEXY FOR RECTAL PROLAPSE (PERINEAL REPAIR)',\n",
       "       ' FASCIOTOMY (MUSCLE, EXCISION OF [EXTENSIVE])',\n",
       "       ' LARGE INTESTINE RESECTION (TOTAL COLECTOMY AND ILEOSTOMY)',\n",
       "       ' HERNIA [FEMORAL/INGUINAL] REPAIR (ON A PERSON UNDER 10 YEARS OF AGE)',\n",
       "       ' LARGE INTESTINE RESECTION (WITHOUT ANASTOMOSIS)',\n",
       "       ' BIOPSY OF GROWTH, EXCISIONAL BIOPSY, LESS THAN 5CM',\n",
       "       ' VENTRICULAR PERITONIUM SHUNT INSERTION',\n",
       "       ' CONSULTATION GP WITH TRANSFER WORKING HOURS <25 MINUTES',\n",
       "       ' CAUTERIZATION OF EXTENSIVE VULVAR CONDYLOMA (2 OR MORE ANATOMICAL SITES)',\n",
       "       ' SALBUTAMOL 2MG/5ML SYRUP  100ML',\n",
       "       ' INITIATION & MANAGEMENT OF ANAESTHESIA FOR LOWER LEG [BELOW KNEE]-FOR MICROSURGICAL REIMPLANTATION OF TOE [8 BASIC UNITS]',\n",
       "       ' SYRINGE 10ML WITH NEEDLE (DISPOSABLE)',\n",
       "       ' CAUTERIZATION OF EXTENSIVE VULVAR CONDYLOMA (1 ANATOMICAL SITE)',\n",
       "       ' BIOPSY OF GROWTH, EXCISIONAL BIOPSY, MORE THAN 5CM (THE NECESSARY EXCISION DIAMETER IS 6 MM OR MORE;)',\n",
       "       ' HEMORRHOIDECTOMY (PERIANAL THROMBOSIS)',\n",
       "       ' METRONIDAZOLE 250MG TABLET',\n",
       "       ' INITIATION & MANAGEMENT OF ANAESTHESIA FOR LOWER ABDOMEN-FOR PROCEDURES ON THE SKIN, ITS DERIVATIVES OR SUBCUTANEOUS TISSUE OF THE LOWER POSTERIOR ABDOMINAL WALL [5 BASIC UNITS',\n",
       "       ' INITIATION & MANAGEMENT OF ANAESTHESIA FOR LOWER ABDOMEN-FOR PROCEDURES ON THE SKIN OR SUBCUTANEOUS TISSUE OF THE LOWER ANTERIOR ABDOMINAL WALLS[3 BASIC UNITS]',\n",
       "       ' IBUPROFEN 100MG/5ML SYRUP 100ML',\n",
       "       ' DRAINAGE OF PROSTATIC ABSCESS [PERINEAL]',\n",
       "       ' INITIATION & MANAGEMENT OF ANAESTHESIA FOR LOWER LEG [BELOW KNEE]- FOR PROCEDURES ON NERVES, MUSCLES, TENDONS, OR FASCIA OF LOWER LEG, ANKLE, OR FOOT [4 BASIC UNITS]',\n",
       "       ' INITIATION & MANAGEMENT OF ANAESTHESIA FOR LOWER ABDOMEN-FOR REPAIR OF INCISIONAL HERNIAE AND/OR WOUND DEHISCENCE OF THE LOWER ABDOMEN [6 BASIC UNITS]',\n",
       "       ' INITIATION & MANAGEMENT OF ANAESTHESIA FOR PERINEUM-FOR PROCEDURES ON THE SKIN OR SUBCUTANEOUS TISSUE OF THE PERINEUM[3 BASIC UNITS]',\n",
       "       ' DEBRIDEMENT OF WOUND, MINOR',\n",
       "       ' ERYTHROMYCIN 125MG/5ML POWDER FOR ORAL SUSPENSION 100ML',\n",
       "       ' LAPAROSCOPY DIAGNOSTIC/WITH BIOPSY',\n",
       "       ' BIOPSY OF GROWTH, EXCISIONAL BIOPSY, MORE THAN 5CM (THE NECESSARY EXCISION DIAMETER IS LESS THAN 15 MM)',\n",
       "       ' LIVER ABCESS/CYST DRAINAGE ([MULTIPLE], OPEN ABDOMINAL DRAINAGE)',\n",
       "       ' LARGE INTESTINE RESECTION (SUBTOTAL COLECTOMY WITHOUT ANASTOMOSIS)',\n",
       "       ' BIOPSY OF GROWTH, EXCISIONAL BIOPSY, MORE THAN 5CM (THE NECESSARY EXCISION DIAMETER IS 14 MM OR MORE)',\n",
       "       ' INITIATION & MANAGEMENT OF ANAESTHESIA FOR SHOULDER AND AXILLA-FOR PROCEDURES ON THE SKIN OR SUBCUTANEOUS TISSUE OF THE SHOULDER OR AXILLA [3 BASIC UNITS]',\n",
       "       ' TOTAL ABDOMINAL HYSTERECTOMY-WITH OR WITHOUT REMOVAL OF UTERINE ADNEXAE',\n",
       "       ' INITIATION & MANAGEMENT OF ANAESTHESIA FOR LOWER LEG [BELOW KNEE]- FOR GASTROCNEMIUS RECESSION [5 BASIC UNITS]',\n",
       "       ' BIOPSY OF GROWTH, EXCISIONAL BIOPSY, MORE THAN 5CM (THE NECESSARY EXCISION DIAMETER IS LESS THAN 14 MM)',\n",
       "       ' INITIATION & MANAGEMENT OF ANAESTHESIA FOR LOWER LEG [BELOW KNEE]--FOR PROCEDURES ON THE SKIN OR SUBCUTANEOUS TISSUE OF LOWER LEG, ANKLE, OR FOOT [3 BASIC UNITS]',\n",
       "       ' STERI STRIP 1546R 6MM X 100MM',\n",
       "       ' LARGE INTESTINE RESECTION (TOTAL COLECTOMY WITH EXCISION OF RECTUM AND ILEOSTOMY, COMBINED SYNCHRONOUS OPERATION)/ ABDOMINAL RESECTION',\n",
       "       ' INITIATION & MANAGEMENT OF ANAESTHESIA FOR UPPER ABDOMEN-FOR PROCEDURES ON THE SKIN OR SUBCUTANEOUS TISSUE OF THE UPPER POSTERIOR ABDOMINAL WALL [5 BASIC UNITS]',\n",
       "       ' INITIATION & MANAGEMENT OF ANAESTHESIA FOR PELVIS [EXCEPT HIP]-FOR PROCEDURES ON THE SKIN OR SUBCUTANEOUS TISSUE OF THE ANTERIOR PELVIC REGION [3 BASIC UNITS]'],\n",
       "      dtype=object)"
      ]
     },
     "execution_count": 20,
     "metadata": {},
     "output_type": "execute_result"
    }
   ],
   "source": [
    "df['medicationName'].unique() # list of all medication names in demograph claim"
   ]
  },
  {
   "cell_type": "code",
   "execution_count": 22,
   "id": "42fe774c",
   "metadata": {},
   "outputs": [
    {
     "data": {
      "text/plain": [
       "100"
      ]
     },
     "execution_count": 22,
     "metadata": {},
     "output_type": "execute_result"
    }
   ],
   "source": [
    "len(df['medicationName'].unique()) #number of medication name in demographic name"
   ]
  },
  {
   "cell_type": "code",
   "execution_count": 132,
   "id": "c7894d79",
   "metadata": {
    "scrolled": true
   },
   "outputs": [
    {
     "data": {
      "text/plain": [
       "medicationName\n",
       " ABCES, DEEP CYST DRAINAGE AND OR CYST REMOVAL                              919821\n",
       " ADENOSINE 3MG /ML INJECTION 2ML                                            905166\n",
       " ADHESIVE TAPE 5 CM                                                         958537\n",
       " ANAL FISTULA EXCISION                                                      952436\n",
       " APPENDECTOMY UNDER 10 YEARS OF AGE                                         918035\n",
       "                                                                             ...  \n",
       " TOTAL ABDOMINAL HYSTERECTOMY-WITH OR WITHOUT REMOVAL OF UTERINE ADNEXAE    937314\n",
       " VENTRICULAR PERITONIUM SHUNT INSERTION                                     947474\n",
       " VICRYL 1 TAPERPOINT 75CM 31MM 1/2C                                         938579\n",
       " VITAMIN B 1 100MG/2ML SOLUTION FOR INJECTION                               974272\n",
       " X-RAY OF THE LUMBAR SPINE OBLIQUE [RIGHT & LEFT]                           945807\n",
       "Name: paidAmount, Length: 100, dtype: int64"
      ]
     },
     "execution_count": 132,
     "metadata": {},
     "output_type": "execute_result"
    }
   ],
   "source": [
    "medicationCost_df = df.groupby('medicationName')['paidAmount'].max()\n",
    "# the max of paid amount for each medicationName\n",
    "medicationCost_df "
   ]
  },
  {
   "cell_type": "code",
   "execution_count": 24,
   "id": "edd43de7",
   "metadata": {
    "scrolled": true
   },
   "outputs": [
    {
     "data": {
      "text/plain": [
       "array([' HEMORRHOIDECTOMY', ' CIPROFLOXACIN 500MG TABLET',\n",
       "       ' DICLOFENAC 75MG/ML INJECTION', ' METOCLOPRAMIDE 10MG TABLET',\n",
       "       ' SCROTUM EXCISION', ' SPLENECTOMY', ' RADICAL HYSTERECTOMY',\n",
       "       ' X-RAY OF THE LUMBAR SPINE OBLIQUE [RIGHT & LEFT]',\n",
       "       ' GAUZE BANDAGE 7,5CM X 4.5M',\n",
       "       ' CAUTERIZATION OF EXTENSIVE VULVAR CONDYLOMA (1 ANATOMICAL SITE)',\n",
       "       ' HYDROCELECTOMY', ' VENTRICULAR PERITONIUM SHUNT INSERTION',\n",
       "       ' CYSTECTOMY RADICAL',\n",
       "       ' ELBOW, TREATMENT OF DISLOCATION OF, BY CLOSED REDUCTION',\n",
       "       ' THYROIDECTOMY', ' MYOMECTOMY',\n",
       "       ' LAPAROSCOPY DIAGNOSTIC/WITH BIOPSY',\n",
       "       ' ADENOSINE 3MG /ML INJECTION 2ML',\n",
       "       ' FASCIOTOMY (MUSCLE, EXCISION OF [EXTENSIVE])', ' OVARIECTOMIE',\n",
       "       ' SALPINGECTOMY',\n",
       "       ' LARGE INTESTINE RESECTION (TOTAL COLECTOMY AND ILEORECTAL ANASTOMOSIS)',\n",
       "       ' EPIGASTRIC HERNIA REPAIR (EXCLUDING RECURRENT INGUINAL OR FEMORAL HERNIA)',\n",
       "       ' NEEDLES DISP ASIK 21G GREEN', ' CYTOTEC 200 ΜG TABLET',\n",
       "       ' SPINA BIFIDA OCCULTA REPAIR',\n",
       "       ' INITIATION & MANAGEMENT OF ANAESTHESIA FOR PERINEUM-FOR VAGINAL PROCEDURES IN THE MANAGEMENT OF POST PARTUM HAEMORRHAGE [BLOOD LOSS > 500MLS] [7 BASIC UNITS]',\n",
       "       ' TIMOLOL 0.5% EYE DROPS  5ML', ' HEALING ABUTMENT',\n",
       "       ' GLIMEPIRIDE 3MG TABLET   B/30',\n",
       "       ' DRAINAGE OF PLEURAL CAVITY NEC, PNEUMOTHORAX DRAINAGE WITH NEEDLE',\n",
       "       ' PULP CAPPING INDIRECT',\n",
       "       ' ERYTHROMYCIN 125MG/5ML POWDER FOR ORAL SUSPENSION 60ML',\n",
       "       ' INGUINAL HERNIORRAPHY', ' FACE MASK SIZE 3',\n",
       "       ' FASCIOTOMY (MUSCLE, EXCISION OF [LIMITED])',\n",
       "       ' ABCES, DEEP CYST DRAINAGE AND OR CYST REMOVAL',\n",
       "       ' VICRYL 1 TAPERPOINT 75CM 31MM 1/2C',\n",
       "       ' SPINA BIFIDA OPERTA REPAIR', ' FACE MASK DISPOSABLE',\n",
       "       ' BENZYL BENZOATE12,5%METHANOL  100ML',\n",
       "       ' LARGE INTESTINE RESECTION (SUBTOTAL COLECTOMY WITH ANASTOMOSIS)',\n",
       "       ' NA+ SODIUM,SODIUM [NA+] IN SERUM',\n",
       "       ' CLOTRIMAZOLE + BETAMETHASONE + GENTAMYCIN OINTMENT  15G',\n",
       "       ' DICLOFENAC 25MG TABLET',\n",
       "       ' DEBRIDEMENT AND SKIN GRAFT (>2% BUT <5% BSA) BY PLASTIC SURGEON OR EQUIVALENT',\n",
       "       ' ATROPINE  0.1%  EYE DROPS 10ML',\n",
       "       ' DETORSION FOR TORSION OF THE TESTIS + CONTROLATERAL TESTIS FIXATION',\n",
       "       ' ANAL FISTULA EXCISION', ' ADHESIVE TAPE 5 CM',\n",
       "       ' FOLIC ACID 5MG TABLET',\n",
       "       ' INITIATION & MANAGEMENT OF ANAESTHESIA FOR PERINEUM-FOR PROCEDURES ON EXTERNAL GENITALIA[4 BASIC UNITS]',\n",
       "       ' CORE NEEDLE BIOPSY OF A BREAST NODULE ON LOCAL ANAESTHSIA',\n",
       "       ' VITAMIN B 1 100MG/2ML SOLUTION FOR INJECTION',\n",
       "       ' HEMORRHOIDECTOMY (INVOLVING THIRD OR FOURTH DEGREE HAEMORRHOIDS)',\n",
       "       ' APPENDICECTOMY (PERSON 10 YEARS OF AGE OR OVER)',\n",
       "       ' FACE MASK SIZE 2', ' OXYGEN CANNULA W/TUBING ADULT',\n",
       "       ' LARGE INTESTINE RESECTION (WITH ANASTOMOSIS)',\n",
       "       ' LAPAROSCOPY DIAGNOSTIC/10 YEARS OF AGE OR OVER',\n",
       "       ' LAPAROSCOPY DIAGNOSTIC/UNDER 10 YEARS OF AGE',\n",
       "       ' FACE MASK SIZE 1', ' OMEPRAZOLE 20MG  CAPSULE',\n",
       "       ' COTRIMOXAZOLE 480MG TABLET',\n",
       "       ' APPENDECTOMY UNDER 10 YEARS OF AGE',\n",
       "       ' RECTOPEXY FOR RECTAL PROLAPSE (PERINEAL REPAIR)',\n",
       "       ' LARGE INTESTINE RESECTION (TOTAL COLECTOMY AND ILEOSTOMY)',\n",
       "       ' HERNIA [FEMORAL/INGUINAL] REPAIR (ON A PERSON UNDER 10 YEARS OF AGE)',\n",
       "       ' LARGE INTESTINE RESECTION (WITHOUT ANASTOMOSIS)',\n",
       "       ' BIOPSY OF GROWTH, EXCISIONAL BIOPSY, LESS THAN 5CM',\n",
       "       ' CONSULTATION GP WITH TRANSFER WORKING HOURS <25 MINUTES',\n",
       "       ' CAUTERIZATION OF EXTENSIVE VULVAR CONDYLOMA (2 OR MORE ANATOMICAL SITES)',\n",
       "       ' SALBUTAMOL 2MG/5ML SYRUP  100ML',\n",
       "       ' INITIATION & MANAGEMENT OF ANAESTHESIA FOR LOWER LEG [BELOW KNEE]-FOR MICROSURGICAL REIMPLANTATION OF TOE [8 BASIC UNITS]',\n",
       "       ' SYRINGE 10ML WITH NEEDLE (DISPOSABLE)',\n",
       "       ' BIOPSY OF GROWTH, EXCISIONAL BIOPSY, MORE THAN 5CM (THE NECESSARY EXCISION DIAMETER IS 6 MM OR MORE;)',\n",
       "       ' HEMORRHOIDECTOMY (PERIANAL THROMBOSIS)',\n",
       "       ' METRONIDAZOLE 250MG TABLET',\n",
       "       ' INITIATION & MANAGEMENT OF ANAESTHESIA FOR LOWER ABDOMEN-FOR PROCEDURES ON THE SKIN, ITS DERIVATIVES OR SUBCUTANEOUS TISSUE OF THE LOWER POSTERIOR ABDOMINAL WALL [5 BASIC UNITS',\n",
       "       ' INITIATION & MANAGEMENT OF ANAESTHESIA FOR LOWER ABDOMEN-FOR PROCEDURES ON THE SKIN OR SUBCUTANEOUS TISSUE OF THE LOWER ANTERIOR ABDOMINAL WALLS[3 BASIC UNITS]',\n",
       "       ' IBUPROFEN 100MG/5ML SYRUP 100ML',\n",
       "       ' DRAINAGE OF PROSTATIC ABSCESS [PERINEAL]',\n",
       "       ' INITIATION & MANAGEMENT OF ANAESTHESIA FOR LOWER LEG [BELOW KNEE]- FOR PROCEDURES ON NERVES, MUSCLES, TENDONS, OR FASCIA OF LOWER LEG, ANKLE, OR FOOT [4 BASIC UNITS]',\n",
       "       ' INITIATION & MANAGEMENT OF ANAESTHESIA FOR LOWER ABDOMEN-FOR REPAIR OF INCISIONAL HERNIAE AND/OR WOUND DEHISCENCE OF THE LOWER ABDOMEN [6 BASIC UNITS]',\n",
       "       ' INITIATION & MANAGEMENT OF ANAESTHESIA FOR PERINEUM-FOR PROCEDURES ON THE SKIN OR SUBCUTANEOUS TISSUE OF THE PERINEUM[3 BASIC UNITS]',\n",
       "       ' DEBRIDEMENT OF WOUND, MINOR',\n",
       "       ' ERYTHROMYCIN 125MG/5ML POWDER FOR ORAL SUSPENSION 100ML',\n",
       "       ' BIOPSY OF GROWTH, EXCISIONAL BIOPSY, MORE THAN 5CM (THE NECESSARY EXCISION DIAMETER IS LESS THAN 15 MM)',\n",
       "       ' LIVER ABCESS/CYST DRAINAGE ([MULTIPLE], OPEN ABDOMINAL DRAINAGE)',\n",
       "       ' LARGE INTESTINE RESECTION (SUBTOTAL COLECTOMY WITHOUT ANASTOMOSIS)',\n",
       "       ' BIOPSY OF GROWTH, EXCISIONAL BIOPSY, MORE THAN 5CM (THE NECESSARY EXCISION DIAMETER IS 14 MM OR MORE)',\n",
       "       ' INITIATION & MANAGEMENT OF ANAESTHESIA FOR SHOULDER AND AXILLA-FOR PROCEDURES ON THE SKIN OR SUBCUTANEOUS TISSUE OF THE SHOULDER OR AXILLA [3 BASIC UNITS]',\n",
       "       ' TOTAL ABDOMINAL HYSTERECTOMY-WITH OR WITHOUT REMOVAL OF UTERINE ADNEXAE',\n",
       "       ' INITIATION & MANAGEMENT OF ANAESTHESIA FOR LOWER LEG [BELOW KNEE]- FOR GASTROCNEMIUS RECESSION [5 BASIC UNITS]',\n",
       "       ' BIOPSY OF GROWTH, EXCISIONAL BIOPSY, MORE THAN 5CM (THE NECESSARY EXCISION DIAMETER IS LESS THAN 14 MM)',\n",
       "       ' INITIATION & MANAGEMENT OF ANAESTHESIA FOR LOWER LEG [BELOW KNEE]--FOR PROCEDURES ON THE SKIN OR SUBCUTANEOUS TISSUE OF LOWER LEG, ANKLE, OR FOOT [3 BASIC UNITS]',\n",
       "       ' STERI STRIP 1546R 6MM X 100MM',\n",
       "       ' LARGE INTESTINE RESECTION (TOTAL COLECTOMY WITH EXCISION OF RECTUM AND ILEOSTOMY, COMBINED SYNCHRONOUS OPERATION)/ ABDOMINAL RESECTION',\n",
       "       ' INITIATION & MANAGEMENT OF ANAESTHESIA FOR UPPER ABDOMEN-FOR PROCEDURES ON THE SKIN OR SUBCUTANEOUS TISSUE OF THE UPPER POSTERIOR ABDOMINAL WALL [5 BASIC UNITS]',\n",
       "       ' INITIATION & MANAGEMENT OF ANAESTHESIA FOR PELVIS [EXCEPT HIP]-FOR PROCEDURES ON THE SKIN OR SUBCUTANEOUS TISSUE OF THE ANTERIOR PELVIC REGION [3 BASIC UNITS]'],\n",
       "      dtype=object)"
      ]
     },
     "execution_count": 24,
     "metadata": {},
     "output_type": "execute_result"
    }
   ],
   "source": [
    "df_1['medicationName'].unique() #list of medicationName in claim file "
   ]
  },
  {
   "cell_type": "markdown",
   "id": "558cc1b0",
   "metadata": {},
   "source": [
    "MedicalNames from both demography claim and claim are similar."
   ]
  },
  {
   "cell_type": "code",
   "execution_count": 25,
   "id": "1d21c130",
   "metadata": {},
   "outputs": [
    {
     "data": {
      "text/plain": [
       "100"
      ]
     },
     "execution_count": 25,
     "metadata": {},
     "output_type": "execute_result"
    }
   ],
   "source": [
    "len(df_1['medicationName'].unique()) #number of medication name in claim file"
   ]
  },
  {
   "cell_type": "code",
   "execution_count": 27,
   "id": "66ff731a",
   "metadata": {},
   "outputs": [
    {
     "data": {
      "text/plain": [
       "medicationName\n",
       " ABCES, DEEP CYST DRAINAGE AND OR CYST REMOVAL                              919821\n",
       " ADENOSINE 3MG /ML INJECTION 2ML                                            905166\n",
       " ADHESIVE TAPE 5 CM                                                         958537\n",
       " ANAL FISTULA EXCISION                                                      952436\n",
       " APPENDECTOMY UNDER 10 YEARS OF AGE                                         918035\n",
       "                                                                             ...  \n",
       " TOTAL ABDOMINAL HYSTERECTOMY-WITH OR WITHOUT REMOVAL OF UTERINE ADNEXAE    937314\n",
       " VENTRICULAR PERITONIUM SHUNT INSERTION                                     947474\n",
       " VICRYL 1 TAPERPOINT 75CM 31MM 1/2C                                         938579\n",
       " VITAMIN B 1 100MG/2ML SOLUTION FOR INJECTION                               974272\n",
       " X-RAY OF THE LUMBAR SPINE OBLIQUE [RIGHT & LEFT]                           945807\n",
       "Name: paidAmount, Length: 100, dtype: int64"
      ]
     },
     "execution_count": 27,
     "metadata": {},
     "output_type": "execute_result"
    }
   ],
   "source": [
    "medicationCost_df_1 = df.groupby('medicationName')['paidAmount'].max()\n",
    "# the total sum of paid amount for each medicationName in claim file\n",
    "medicationCost_df_1 "
   ]
  },
  {
   "cell_type": "markdown",
   "id": "d1223558",
   "metadata": {},
   "source": [
    "Let's see medicationName that are above the mean(average) cost in demograph claim."
   ]
  },
  {
   "cell_type": "code",
   "execution_count": 28,
   "id": "abc73012",
   "metadata": {
    "scrolled": true
   },
   "outputs": [
    {
     "data": {
      "text/html": [
       "<div>\n",
       "<style scoped>\n",
       "    .dataframe tbody tr th:only-of-type {\n",
       "        vertical-align: middle;\n",
       "    }\n",
       "\n",
       "    .dataframe tbody tr th {\n",
       "        vertical-align: top;\n",
       "    }\n",
       "\n",
       "    .dataframe thead th {\n",
       "        text-align: right;\n",
       "    }\n",
       "</style>\n",
       "<table border=\"1\" class=\"dataframe\">\n",
       "  <thead>\n",
       "    <tr style=\"text-align: right;\">\n",
       "      <th></th>\n",
       "      <th>id</th>\n",
       "      <th>firstName</th>\n",
       "      <th>lastName</th>\n",
       "      <th>gender</th>\n",
       "      <th>facilityName</th>\n",
       "      <th>scheme</th>\n",
       "      <th>medicationCode</th>\n",
       "      <th>medicationName</th>\n",
       "      <th>admissionDate</th>\n",
       "      <th>dischargeDate</th>\n",
       "      <th>diagnosisCode</th>\n",
       "      <th>procedureCode</th>\n",
       "      <th>quantity</th>\n",
       "      <th>billedAmount</th>\n",
       "      <th>verifiedAmount</th>\n",
       "      <th>paidAmount</th>\n",
       "    </tr>\n",
       "  </thead>\n",
       "  <tbody>\n",
       "    <tr>\n",
       "      <th>0</th>\n",
       "      <td>f70c7cea-d533-48ff-999e-d8ae2dfbdb7d</td>\n",
       "      <td>Alberta</td>\n",
       "      <td>Gerhold</td>\n",
       "      <td>FEMALE</td>\n",
       "      <td>Nkridgegridgewood</td>\n",
       "      <td>RAMA</td>\n",
       "      <td>35641</td>\n",
       "      <td>OVARIECTOMIE</td>\n",
       "      <td>2024-02-12 04:56:20.699</td>\n",
       "      <td>2024-03-23 09:19:21.894</td>\n",
       "      <td>ICD-J05AE10001</td>\n",
       "      <td>CPT-42242000FQZ425</td>\n",
       "      <td>82</td>\n",
       "      <td>632220</td>\n",
       "      <td>453929</td>\n",
       "      <td>178291</td>\n",
       "    </tr>\n",
       "    <tr>\n",
       "      <th>3</th>\n",
       "      <td>026ec986-620b-41e5-9fc2-f9dc4d2247d2</td>\n",
       "      <td>Phyllis</td>\n",
       "      <td>Monahan</td>\n",
       "      <td>FEMALE</td>\n",
       "      <td>North Lusland With Bathdsor</td>\n",
       "      <td>RAMA</td>\n",
       "      <td>35641</td>\n",
       "      <td>OVARIECTOMIE</td>\n",
       "      <td>2023-05-21 00:24:43.016</td>\n",
       "      <td>2023-05-27 06:00:36.737</td>\n",
       "      <td>ICD-J01XB02001</td>\n",
       "      <td>CPT-42242000FQZ410</td>\n",
       "      <td>31</td>\n",
       "      <td>199330</td>\n",
       "      <td>48398</td>\n",
       "      <td>150932</td>\n",
       "    </tr>\n",
       "    <tr>\n",
       "      <th>4</th>\n",
       "      <td>17469904-7dd7-466d-9090-eba19a6f31dc</td>\n",
       "      <td>Daisy</td>\n",
       "      <td>Kuhic</td>\n",
       "      <td>FEMALE</td>\n",
       "      <td>Cetersrye</td>\n",
       "      <td>RAMA</td>\n",
       "      <td>35641</td>\n",
       "      <td>OVARIECTOMIE</td>\n",
       "      <td>2023-04-12 22:32:48.769</td>\n",
       "      <td>2023-09-09 15:52:50.782</td>\n",
       "      <td>ICD-J07BC01002</td>\n",
       "      <td>CPT-42242000FQZ359</td>\n",
       "      <td>100</td>\n",
       "      <td>888500</td>\n",
       "      <td>313717</td>\n",
       "      <td>574783</td>\n",
       "    </tr>\n",
       "    <tr>\n",
       "      <th>6</th>\n",
       "      <td>17469904-7dd7-466d-9090-eba19a6f31dc</td>\n",
       "      <td>Daisy</td>\n",
       "      <td>Kuhic</td>\n",
       "      <td>FEMALE</td>\n",
       "      <td>Cetersrye</td>\n",
       "      <td>RAMA</td>\n",
       "      <td>35729</td>\n",
       "      <td>RADICAL HYSTERECTOMY</td>\n",
       "      <td>2023-05-15 22:14:50.465</td>\n",
       "      <td>2024-01-24 16:46:25.606</td>\n",
       "      <td>ICD-J02AC01004</td>\n",
       "      <td>CPT-42242000FQZ423</td>\n",
       "      <td>67</td>\n",
       "      <td>661290</td>\n",
       "      <td>299710</td>\n",
       "      <td>361580</td>\n",
       "    </tr>\n",
       "  </tbody>\n",
       "</table>\n",
       "</div>"
      ],
      "text/plain": [
       "                                     id firstName lastName  gender  \\\n",
       "0  f70c7cea-d533-48ff-999e-d8ae2dfbdb7d   Alberta  Gerhold  FEMALE   \n",
       "3  026ec986-620b-41e5-9fc2-f9dc4d2247d2   Phyllis  Monahan  FEMALE   \n",
       "4  17469904-7dd7-466d-9090-eba19a6f31dc     Daisy    Kuhic  FEMALE   \n",
       "6  17469904-7dd7-466d-9090-eba19a6f31dc     Daisy    Kuhic  FEMALE   \n",
       "\n",
       "                  facilityName scheme medicationCode         medicationName  \\\n",
       "0            Nkridgegridgewood   RAMA          35641           OVARIECTOMIE   \n",
       "3  North Lusland With Bathdsor   RAMA          35641           OVARIECTOMIE   \n",
       "4                    Cetersrye   RAMA          35641           OVARIECTOMIE   \n",
       "6                    Cetersrye   RAMA          35729   RADICAL HYSTERECTOMY   \n",
       "\n",
       "             admissionDate            dischargeDate   diagnosisCode  \\\n",
       "0  2024-02-12 04:56:20.699  2024-03-23 09:19:21.894  ICD-J05AE10001   \n",
       "3  2023-05-21 00:24:43.016  2023-05-27 06:00:36.737  ICD-J01XB02001   \n",
       "4  2023-04-12 22:32:48.769  2023-09-09 15:52:50.782  ICD-J07BC01002   \n",
       "6  2023-05-15 22:14:50.465  2024-01-24 16:46:25.606  ICD-J02AC01004   \n",
       "\n",
       "        procedureCode  quantity  billedAmount  verifiedAmount  paidAmount  \n",
       "0  CPT-42242000FQZ425        82        632220          453929      178291  \n",
       "3  CPT-42242000FQZ410        31        199330           48398      150932  \n",
       "4  CPT-42242000FQZ359       100        888500          313717      574783  \n",
       "6  CPT-42242000FQZ423        67        661290          299710      361580  "
      ]
     },
     "execution_count": 28,
     "metadata": {},
     "output_type": "execute_result"
    }
   ],
   "source": [
    "Expensive_demogrClaim = df[df['paidAmount']>126331] #Paid amount which are above average\n",
    "Expensive_demogrClaim.head(4)"
   ]
  },
  {
   "cell_type": "markdown",
   "id": "307b20bd",
   "metadata": {},
   "source": [
    "Surgeries are the most expensive medicalName like ovariectomie, radical hysterectomy,..."
   ]
  },
  {
   "cell_type": "code",
   "execution_count": 29,
   "id": "23f4d1e7",
   "metadata": {
    "scrolled": true
   },
   "outputs": [
    {
     "name": "stdout",
     "output_type": "stream",
     "text": [
      "                                                    quantity  paidAmount  \\\n",
      "medicationName                                                             \n",
      " ABCES, DEEP CYST DRAINAGE AND OR CYST REMOVAL        961909  2421279535   \n",
      " ADENOSINE 3MG /ML INJECTION 2ML                      981945  2426399371   \n",
      " ADHESIVE TAPE 5 CM                                   997633  2496421429   \n",
      " ANAL FISTULA EXCISION                                968864  2435706195   \n",
      " APPENDECTOMY UNDER 10 YEARS OF AGE                   981622  2444828030   \n",
      "...                                                      ...         ...   \n",
      " TOTAL ABDOMINAL HYSTERECTOMY-WITH OR WITHOUT R...    978109  2442696146   \n",
      " VENTRICULAR PERITONIUM SHUNT INSERTION               970050  2448251587   \n",
      " VICRYL 1 TAPERPOINT 75CM 31MM 1/2C                   970348  2444749139   \n",
      " VITAMIN B 1 100MG/2ML SOLUTION FOR INJECTION         985544  2489016567   \n",
      " X-RAY OF THE LUMBAR SPINE OBLIQUE [RIGHT & LEFT]     967883  2384406337   \n",
      "\n",
      "                                                    billedAmount  \\\n",
      "medicationName                                                     \n",
      " ABCES, DEEP CYST DRAINAGE AND OR CYST REMOVAL        4848506935   \n",
      " ADENOSINE 3MG /ML INJECTION 2ML                      4874734320   \n",
      " ADHESIVE TAPE 5 CM                                   4988713855   \n",
      " ANAL FISTULA EXCISION                                4860559310   \n",
      " APPENDECTOMY UNDER 10 YEARS OF AGE                   4892013625   \n",
      "...                                                          ...   \n",
      " TOTAL ABDOMINAL HYSTERECTOMY-WITH OR WITHOUT R...    4885801635   \n",
      " VENTRICULAR PERITONIUM SHUNT INSERTION               4889382940   \n",
      " VICRYL 1 TAPERPOINT 75CM 31MM 1/2C                   4848684455   \n",
      " VITAMIN B 1 100MG/2ML SOLUTION FOR INJECTION         4976043120   \n",
      " X-RAY OF THE LUMBAR SPINE OBLIQUE [RIGHT & LEFT]     4828110850   \n",
      "\n",
      "                                                    verifiedAmount  \n",
      "medicationName                                                      \n",
      " ABCES, DEEP CYST DRAINAGE AND OR CYST REMOVAL          2427227400  \n",
      " ADENOSINE 3MG /ML INJECTION 2ML                        2448334949  \n",
      " ADHESIVE TAPE 5 CM                                     2492292426  \n",
      " ANAL FISTULA EXCISION                                  2424853115  \n",
      " APPENDECTOMY UNDER 10 YEARS OF AGE                     2447185595  \n",
      "...                                                            ...  \n",
      " TOTAL ABDOMINAL HYSTERECTOMY-WITH OR WITHOUT R...      2443105489  \n",
      " VENTRICULAR PERITONIUM SHUNT INSERTION                 2441131353  \n",
      " VICRYL 1 TAPERPOINT 75CM 31MM 1/2C                     2403935316  \n",
      " VITAMIN B 1 100MG/2ML SOLUTION FOR INJECTION           2487026553  \n",
      " X-RAY OF THE LUMBAR SPINE OBLIQUE [RIGHT & LEFT]       2443704513  \n",
      "\n",
      "[100 rows x 4 columns]\n"
     ]
    }
   ],
   "source": [
    "title_medicationName = df.groupby('medicationName')[['quantity','paidAmount','billedAmount','verifiedAmount']].sum() #group and sum the data by the number of values for each ‘medicationName’\n",
    "print(title_medicationName)"
   ]
  },
  {
   "cell_type": "code",
   "execution_count": 72,
   "id": "f2417e71",
   "metadata": {},
   "outputs": [
    {
     "name": "stdout",
     "output_type": "stream",
     "text": [
      "Regression Equation: y=2473.78x + -2797.26\n"
     ]
    }
   ],
   "source": [
    "#perform regressin analysis\n",
    "regression_model = LinearRegression()\n",
    "regression_model.fit(x.values.reshape(-1,1), y)\n",
    "slope = regression_model.coef_[0]\n",
    "intercept = regression_model.intercept_\n",
    "\n",
    "print(f\"Regression Equation: y={slope:.2f}x + {intercept: .2f}\")"
   ]
  },
  {
   "cell_type": "markdown",
   "id": "66942da1",
   "metadata": {},
   "source": [
    "* The coefficient of x is positive, therefore the correlation is positive.\n",
    "* The y- intercept (-2797.26) provides the baseline value of y when the independant variable x is zero. To mean that if quantity is zero there is no paid amount.\n"
   ]
  },
  {
   "cell_type": "markdown",
   "id": "d966371d",
   "metadata": {},
   "source": [
    "## AMOUNT PER SCHEME"
   ]
  },
  {
   "cell_type": "markdown",
   "id": "a52d4118",
   "metadata": {},
   "source": [
    "The following is a figure showing paid amount per scheme"
   ]
  },
  {
   "cell_type": "code",
   "execution_count": 31,
   "id": "0403b75c",
   "metadata": {},
   "outputs": [
    {
     "name": "stdout",
     "output_type": "stream",
     "text": [
      "          quantity    paidAmount  billedAmount  verifiedAmount\n",
      "scheme                                                        \n",
      "MUTUELLE  48984580  122418706006  245111606075    122692900069\n",
      "RAMA      48907953  122330409489  244298923020    121968513531\n"
     ]
    }
   ],
   "source": [
    "title_scheme = df.groupby('scheme')[['quantity','paidAmount','billedAmount','verifiedAmount']].sum() #group and sum the data by the number of values for each ‘scheme’\n",
    "print(title_scheme) #demography claim only"
   ]
  },
  {
   "cell_type": "code",
   "execution_count": 32,
   "id": "0cddd870",
   "metadata": {},
   "outputs": [
    {
     "name": "stdout",
     "output_type": "stream",
     "text": [
      "          quantity    paidAmount  billedAmount  verifiedAmount\n",
      "scheme                                                        \n",
      "MUTUELLE  48986378  122423709359  245121439220    122697729861\n",
      "RAMA      48910673  122336005839  244310477600    121974471761\n"
     ]
    }
   ],
   "source": [
    "title_scheme_claim = df_1.groupby('scheme')[['quantity','paidAmount','billedAmount','verifiedAmount']].sum() #group and sum the data by the number of values for each ‘scheme’\n",
    "print(title_scheme_claim) # claim only"
   ]
  },
  {
   "cell_type": "markdown",
   "id": "eaa6920b",
   "metadata": {},
   "source": [
    "Combine both demograph claim and claim scheme figures"
   ]
  },
  {
   "cell_type": "code",
   "execution_count": 33,
   "id": "4349d3b8",
   "metadata": {
    "scrolled": true
   },
   "outputs": [
    {
     "name": "stdout",
     "output_type": "stream",
     "text": [
      "          quantity    paidAmount  billedAmount  verifiedAmount\n",
      "scheme                                                        \n",
      "MUTUELLE  97970958  244842415365  490233045295    245390629930\n",
      "RAMA      97818626  244666415328  488609400620    243942985292\n"
     ]
    }
   ],
   "source": [
    "Both = title_scheme_claim + title_scheme\n",
    "print(Both)"
   ]
  },
  {
   "cell_type": "code",
   "execution_count": 34,
   "id": "b018b285",
   "metadata": {},
   "outputs": [],
   "source": [
    "bills = title_scheme_claim.paidAmount.sort_values() #sort the rest of the data and store it under the variable bill\n",
    "schemee= title_scheme_claim.paidAmount.sort_values().index #sort the indices and store them under the variable SCHEME"
   ]
  },
  {
   "cell_type": "code",
   "execution_count": 35,
   "id": "10e50931",
   "metadata": {},
   "outputs": [
    {
     "data": {
      "image/png": "[encoded data removed]",
      "text/plain": [
       "<Figure size 640x480 with 1 Axes>"
      ]
     },
     "metadata": {},
     "output_type": "display_data"
    }
   ],
   "source": [
    "plt.bar(schemee, bills, color= 'red')\n",
    "\n",
    "# Set x and y-axis titles.\n",
    "plt.ylabel('Total Bill')\n",
    "plt.xlabel('\\n Scheme')   \n",
    "\n",
    "# Set graph title.\n",
    "plt.title('Total bill of medicationName Per Scheme \\n')\n",
    "\n",
    "# Show graph.\n",
    "plt.show()"
   ]
  },
  {
   "cell_type": "markdown",
   "id": "ea610b2a",
   "metadata": {},
   "source": [
    "From this result, we realize that MUTUELLE has the higher paid amount that RAMA and as the figure of nomber of people using MUTUELLE is higher than RAMA's figure as the earlier cell shows."
   ]
  },
  {
   "cell_type": "markdown",
   "id": "719f9f5d",
   "metadata": {},
   "source": [
    "Which gender consumes insurence services the most in demography claim"
   ]
  },
  {
   "cell_type": "code",
   "execution_count": 36,
   "id": "84359d06",
   "metadata": {
    "scrolled": true
   },
   "outputs": [
    {
     "name": "stdout",
     "output_type": "stream",
     "text": [
      "        quantity    paidAmount  billedAmount  verifiedAmount\n",
      "gender                                                      \n",
      "FEMALE  49100033  122843820228  245488868930    122645048702\n",
      "MALE    48792500  121905295267  243921660165    122016364898\n"
     ]
    }
   ],
   "source": [
    "title_gender_demo = df.groupby('gender')[['quantity','paidAmount','billedAmount','verifiedAmount']].sum() #group and sum the data by the number of values for each ‘gender’\n",
    "print(title_gender_demo) # demography claim only"
   ]
  },
  {
   "cell_type": "code",
   "execution_count": 37,
   "id": "1797871d",
   "metadata": {},
   "outputs": [],
   "source": [
    "bill = title_gender_demo.paidAmount.sort_values() #sort the rest of the data and store it under the variable bill\n",
    "gender_dem = title_gender_demo.paidAmount.sort_values().index #sort the indices and store them under the variable week_day\n"
   ]
  },
  {
   "cell_type": "markdown",
   "id": "2468adb6",
   "metadata": {},
   "source": [
    "Billed amount per Gender"
   ]
  },
  {
   "cell_type": "code",
   "execution_count": 38,
   "id": "2ea2b4f2",
   "metadata": {
    "scrolled": true
   },
   "outputs": [
    {
     "name": "stdout",
     "output_type": "stream",
     "text": [
      "gender\n",
      "MALE      121905295267\n",
      "FEMALE    122843820228\n",
      "Name: paidAmount, dtype: int64\n"
     ]
    }
   ],
   "source": [
    "print(bill)"
   ]
  },
  {
   "cell_type": "code",
   "execution_count": 39,
   "id": "42d505b2",
   "metadata": {},
   "outputs": [
    {
     "data": {
      "image/png": "[encoded data removed]",
      "text/plain": [
       "<Figure size 640x480 with 1 Axes>"
      ]
     },
     "metadata": {},
     "output_type": "display_data"
    }
   ],
   "source": [
    "# Plot total bill (y-axis) per day of the week (x-axis). \n",
    "# We only have to call a single line of code from matplotlib to produce the base graph. \n",
    "# We set the x-axis, y-axis, and the colour of the bars.\n",
    "plt.bar(gender_dem, bill, color= 'magenta')\n",
    "\n",
    "# Set x and y-axis titles.\n",
    "plt.ylabel('Total Bill')\n",
    "plt.xlabel('\\n Gender') # Note: '\\n' creates a newline (try removing it and see what happens)  \n",
    "\n",
    "# Set graph title.\n",
    "plt.title('Total bill of medicationName Per Gender \\n')\n",
    "\n",
    "# Show graph.\n",
    "plt.show()"
   ]
  },
  {
   "cell_type": "markdown",
   "id": "be039270",
   "metadata": {},
   "source": [
    "## GENERAL ADVICES"
   ]
  },
  {
   "cell_type": "markdown",
   "id": "a60b1169",
   "metadata": {},
   "source": [
    "According to Chatgpt; Identifying areas for cost reduction within the member population for a health insurance company involves targeting specific areas where costs can be minimized while maintaining or improving the quality of care. Here are some potential areas for cost reduction:\n"
   ]
  },
  {
   "cell_type": "markdown",
   "id": "6f028959",
   "metadata": {},
   "source": [
    "1.  Preventive Care and Wellness Programs: Investing in preventive care and wellness programs can help reduce the occurrence of costly medical conditions by promoting healthier lifestyles and early detection of health issues."
   ]
  },
  {
   "cell_type": "markdown",
   "id": "5b3fe1d5",
   "metadata": {},
   "source": [
    "2. Chronic Disease Management: Implementing disease management programs for common chronic conditions such as diabetes, hypertension, and asthma can help control costs by reducing hospitalizations and complications through proactive management and education."
   ]
  },
  {
   "cell_type": "markdown",
   "id": "ab072e4b",
   "metadata": {},
   "source": [
    "3. Provider Network Optimization: Negotiating contracts with healthcare providers to lower reimbursement rates or implementing narrower provider networks can help reduce costs while maintaining quality of care."
   ]
  },
  {
   "cell_type": "markdown",
   "id": "d440bb3a",
   "metadata": {},
   "source": [
    "4. Utilization Management: Implementing utilization management strategies such as prior authorization, step therapy, and formulary management can help ensure appropriate and cost-effective use of healthcare services and medications."
   ]
  },
  {
   "cell_type": "markdown",
   "id": "4f835f1e",
   "metadata": {},
   "source": [
    "5. Telemedicine and Remote Monitoring: Embracing telemedicine and remote monitoring technologies can reduce costs associated with unnecessary office visits, emergency room visits, and hospitalizations by providing convenient and efficient access to healthcare services."
   ]
  },
  {
   "cell_type": "markdown",
   "id": "768435e4",
   "metadata": {},
   "source": [
    "6. Care Coordination and Case Management: Enhancing care coordination and case management efforts can help avoid duplicate tests, prevent unnecessary procedures, and streamline care transitions, leading to cost savings and improved patient outcomes."
   ]
  },
  {
   "cell_type": "markdown",
   "id": "44d7f9ec",
   "metadata": {},
   "source": [
    "7. Generic Medication Promotion: Encouraging the use of generic medications over brand-name drugs through formulary design and patient education can significantly reduce prescription drug costs for both the insurer and the member."
   ]
  },
  {
   "cell_type": "markdown",
   "id": "dfd27473",
   "metadata": {},
   "source": [
    "8. Member Education and Engagement: Providing members with education and tools to make informed healthcare decisions, such as choosing lower-cost providers and understanding their insurance benefits, can empower them to manage their healthcare costs more effectively."
   ]
  },
  {
   "cell_type": "markdown",
   "id": "bac09b80",
   "metadata": {},
   "source": [
    "9. Healthcare Fraud Detection and Prevention: Implementing robust fraud detection and prevention measures can help identify and eliminate fraudulent claims, thereby reducing unnecessary costs and protecting the integrity of the insurance system."
   ]
  },
  {
   "cell_type": "markdown",
   "id": "f0ef3571",
   "metadata": {},
   "source": [
    "10. Data Analytics and Predictive Modeling: Leveraging advanced data analytics and predictive modeling techniques can identify patterns and trends in healthcare utilization and costs, enabling proactive interventions to mitigate risks and reduce costs."
   ]
  },
  {
   "cell_type": "markdown",
   "id": "03f58eb2",
   "metadata": {},
   "source": [
    "#### THANK YOU"
   ]
  },
  {
   "cell_type": "code",
   "execution_count": null,
   "id": "2262a19d",
   "metadata": {},
   "outputs": [],
   "source": []
  }
 ],
 "metadata": {
  "kernelspec": {
   "display_name": "Python 3 (ipykernel)",
   "language": "python",
   "name": "python3"
  },
  "language_info": {
   "codemirror_mode": {
    "name": "ipython",
    "version": 3
   },
   "file_extension": ".py",
   "mimetype": "text/x-python",
   "name": "python",
   "nbconvert_exporter": "python",
   "pygments_lexer": "ipython3",
   "version": "3.11.5"
  }
 },
 "nbformat": 4,
 "nbformat_minor": 5
}
